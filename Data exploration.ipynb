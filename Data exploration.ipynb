{
 "cells": [
  {
   "cell_type": "code",
   "execution_count": 2,
   "id": "6e057563",
   "metadata": {},
   "outputs": [],
   "source": [
    "import os\n",
    "import cv2\n",
    "import pandas as pd\n",
    "import matplotlib.pyplot as plt"
   ]
  },
  {
   "cell_type": "code",
   "execution_count": 3,
   "id": "531931f5",
   "metadata": {},
   "outputs": [],
   "source": [
    "training_dataset_path = \"machine-learning-in-science-ii-2023/training_data\"\n",
    "test_dataset_path = \"machine-learning-in-science-ii-2023/test_data\"\n",
    "\n",
    "training_labels_path = \"machine-learning-in-science-ii-2023/training_norm.csv\""
   ]
  },
  {
   "cell_type": "code",
   "execution_count": 4,
   "id": "d7ad6fbd",
   "metadata": {},
   "outputs": [
    {
     "data": {
      "text/html": [
       "<div>\n",
       "<style scoped>\n",
       "    .dataframe tbody tr th:only-of-type {\n",
       "        vertical-align: middle;\n",
       "    }\n",
       "\n",
       "    .dataframe tbody tr th {\n",
       "        vertical-align: top;\n",
       "    }\n",
       "\n",
       "    .dataframe thead th {\n",
       "        text-align: right;\n",
       "    }\n",
       "</style>\n",
       "<table border=\"1\" class=\"dataframe\">\n",
       "  <thead>\n",
       "    <tr style=\"text-align: right;\">\n",
       "      <th></th>\n",
       "      <th>image_id</th>\n",
       "      <th>angle</th>\n",
       "      <th>speed</th>\n",
       "    </tr>\n",
       "  </thead>\n",
       "  <tbody>\n",
       "    <tr>\n",
       "      <th>0</th>\n",
       "      <td>1</td>\n",
       "      <td>0.4375</td>\n",
       "      <td>0.0</td>\n",
       "    </tr>\n",
       "    <tr>\n",
       "      <th>1</th>\n",
       "      <td>2</td>\n",
       "      <td>0.8125</td>\n",
       "      <td>1.0</td>\n",
       "    </tr>\n",
       "    <tr>\n",
       "      <th>2</th>\n",
       "      <td>3</td>\n",
       "      <td>0.4375</td>\n",
       "      <td>1.0</td>\n",
       "    </tr>\n",
       "    <tr>\n",
       "      <th>3</th>\n",
       "      <td>4</td>\n",
       "      <td>0.6250</td>\n",
       "      <td>1.0</td>\n",
       "    </tr>\n",
       "    <tr>\n",
       "      <th>4</th>\n",
       "      <td>5</td>\n",
       "      <td>0.5000</td>\n",
       "      <td>0.0</td>\n",
       "    </tr>\n",
       "  </tbody>\n",
       "</table>\n",
       "</div>"
      ],
      "text/plain": [
       "   image_id   angle  speed\n",
       "0         1  0.4375    0.0\n",
       "1         2  0.8125    1.0\n",
       "2         3  0.4375    1.0\n",
       "3         4  0.6250    1.0\n",
       "4         5  0.5000    0.0"
      ]
     },
     "execution_count": 4,
     "metadata": {},
     "output_type": "execute_result"
    }
   ],
   "source": [
    "train_Y = pd.read_csv(training_labels_path)\n",
    "train_Y.head()"
   ]
  },
  {
   "cell_type": "code",
   "execution_count": 5,
   "id": "33de14f5",
   "metadata": {},
   "outputs": [
    {
     "name": "stdout",
     "output_type": "stream",
     "text": [
      "<class 'pandas.core.frame.DataFrame'>\n",
      "RangeIndex: 13793 entries, 0 to 13792\n",
      "Data columns (total 3 columns):\n",
      " #   Column    Non-Null Count  Dtype  \n",
      "---  ------    --------------  -----  \n",
      " 0   image_id  13793 non-null  int64  \n",
      " 1   angle     13793 non-null  float64\n",
      " 2   speed     13793 non-null  float64\n",
      "dtypes: float64(2), int64(1)\n",
      "memory usage: 323.4 KB\n"
     ]
    }
   ],
   "source": [
    "train_Y.info()"
   ]
  },
  {
   "cell_type": "code",
   "execution_count": 6,
   "id": "47271468",
   "metadata": {},
   "outputs": [
    {
     "data": {
      "text/html": [
       "<div>\n",
       "<style scoped>\n",
       "    .dataframe tbody tr th:only-of-type {\n",
       "        vertical-align: middle;\n",
       "    }\n",
       "\n",
       "    .dataframe tbody tr th {\n",
       "        vertical-align: top;\n",
       "    }\n",
       "\n",
       "    .dataframe thead th {\n",
       "        text-align: right;\n",
       "    }\n",
       "</style>\n",
       "<table border=\"1\" class=\"dataframe\">\n",
       "  <thead>\n",
       "    <tr style=\"text-align: right;\">\n",
       "      <th></th>\n",
       "      <th>image_id</th>\n",
       "      <th>angle</th>\n",
       "      <th>speed</th>\n",
       "    </tr>\n",
       "  </thead>\n",
       "  <tbody>\n",
       "    <tr>\n",
       "      <th>count</th>\n",
       "      <td>13793.000000</td>\n",
       "      <td>13793.000000</td>\n",
       "      <td>13793.000000</td>\n",
       "    </tr>\n",
       "    <tr>\n",
       "      <th>mean</th>\n",
       "      <td>6899.790473</td>\n",
       "      <td>0.605062</td>\n",
       "      <td>0.754254</td>\n",
       "    </tr>\n",
       "    <tr>\n",
       "      <th>std</th>\n",
       "      <td>3983.649259</td>\n",
       "      <td>0.155558</td>\n",
       "      <td>0.430596</td>\n",
       "    </tr>\n",
       "    <tr>\n",
       "      <th>min</th>\n",
       "      <td>1.000000</td>\n",
       "      <td>0.000000</td>\n",
       "      <td>0.000000</td>\n",
       "    </tr>\n",
       "    <tr>\n",
       "      <th>25%</th>\n",
       "      <td>3450.000000</td>\n",
       "      <td>0.500000</td>\n",
       "      <td>1.000000</td>\n",
       "    </tr>\n",
       "    <tr>\n",
       "      <th>50%</th>\n",
       "      <td>6900.000000</td>\n",
       "      <td>0.625000</td>\n",
       "      <td>1.000000</td>\n",
       "    </tr>\n",
       "    <tr>\n",
       "      <th>75%</th>\n",
       "      <td>10350.000000</td>\n",
       "      <td>0.750000</td>\n",
       "      <td>1.000000</td>\n",
       "    </tr>\n",
       "    <tr>\n",
       "      <th>max</th>\n",
       "      <td>13798.000000</td>\n",
       "      <td>1.000000</td>\n",
       "      <td>1.428571</td>\n",
       "    </tr>\n",
       "  </tbody>\n",
       "</table>\n",
       "</div>"
      ],
      "text/plain": [
       "           image_id         angle         speed\n",
       "count  13793.000000  13793.000000  13793.000000\n",
       "mean    6899.790473      0.605062      0.754254\n",
       "std     3983.649259      0.155558      0.430596\n",
       "min        1.000000      0.000000      0.000000\n",
       "25%     3450.000000      0.500000      1.000000\n",
       "50%     6900.000000      0.625000      1.000000\n",
       "75%    10350.000000      0.750000      1.000000\n",
       "max    13798.000000      1.000000      1.428571"
      ]
     },
     "execution_count": 6,
     "metadata": {},
     "output_type": "execute_result"
    }
   ],
   "source": [
    "train_Y.describe()"
   ]
  },
  {
   "cell_type": "code",
   "execution_count": 7,
   "id": "e64a3c45",
   "metadata": {},
   "outputs": [
    {
     "data": {
      "text/plain": [
       "1.000000    10402\n",
       "0.000000     3390\n",
       "1.428571        1\n",
       "Name: speed, dtype: int64"
      ]
     },
     "execution_count": 7,
     "metadata": {},
     "output_type": "execute_result"
    }
   ],
   "source": [
    "train_Y[\"speed\"].value_counts()"
   ]
  },
  {
   "cell_type": "code",
   "execution_count": 8,
   "id": "93f1ffe4",
   "metadata": {},
   "outputs": [
    {
     "data": {
      "text/html": [
       "<div>\n",
       "<style scoped>\n",
       "    .dataframe tbody tr th:only-of-type {\n",
       "        vertical-align: middle;\n",
       "    }\n",
       "\n",
       "    .dataframe tbody tr th {\n",
       "        vertical-align: top;\n",
       "    }\n",
       "\n",
       "    .dataframe thead th {\n",
       "        text-align: right;\n",
       "    }\n",
       "</style>\n",
       "<table border=\"1\" class=\"dataframe\">\n",
       "  <thead>\n",
       "    <tr style=\"text-align: right;\">\n",
       "      <th></th>\n",
       "      <th>image_id</th>\n",
       "      <th>angle</th>\n",
       "      <th>speed</th>\n",
       "    </tr>\n",
       "  </thead>\n",
       "  <tbody>\n",
       "    <tr>\n",
       "      <th>3882</th>\n",
       "      <td>3884</td>\n",
       "      <td>0.4375</td>\n",
       "      <td>1.428571</td>\n",
       "    </tr>\n",
       "  </tbody>\n",
       "</table>\n",
       "</div>"
      ],
      "text/plain": [
       "      image_id   angle     speed\n",
       "3882      3884  0.4375  1.428571"
      ]
     },
     "execution_count": 8,
     "metadata": {},
     "output_type": "execute_result"
    }
   ],
   "source": [
    "train_Y.loc[(train_Y[\"speed\"]!=0) & (train_Y[\"speed\"]!=1)]"
   ]
  },
  {
   "cell_type": "code",
   "execution_count": 9,
   "id": "f189332e",
   "metadata": {},
   "outputs": [
    {
     "name": "stdout",
     "output_type": "stream",
     "text": [
      "=====================\n",
      "dirpath : .\n",
      "dirnames : ['.ipynb_checkpoints', 'machine-learning-in-science-ii-2023']\n",
      "=====================\n",
      "dirpath : .\\.ipynb_checkpoints\n",
      "dirnames : []\n",
      "=====================\n",
      "dirpath : .\\machine-learning-in-science-ii-2023\n",
      "dirnames : ['test_data', 'training_data']\n",
      "=====================\n",
      "dirpath : .\\machine-learning-in-science-ii-2023\\test_data\n",
      "dirnames : []\n",
      "=====================\n",
      "dirpath : .\\machine-learning-in-science-ii-2023\\training_data\n",
      "dirnames : []\n",
      "(240, 320, 3)\n",
      "32\n",
      "(240, 320, 3)\n",
      "32\n",
      "(240, 320, 3)\n",
      "32\n",
      "(240, 320, 3)\n",
      "32\n",
      "(240, 320, 3)\n",
      "32\n",
      "(240, 320, 3)\n",
      "32\n",
      "(240, 320, 3)\n",
      "32\n",
      "(240, 320, 3)\n",
      "32\n",
      "(240, 320, 3)\n",
      "32\n",
      "(240, 320, 3)\n",
      "32\n",
      "(240, 320, 3)\n",
      "32\n",
      "(240, 320, 3)\n",
      "32\n",
      "(240, 320, 3)\n",
      "32\n",
      "(240, 320, 3)\n",
      "32\n",
      "(240, 320, 3)\n",
      "32\n",
      "(240, 320, 3)\n",
      "32\n",
      "(240, 320, 3)\n",
      "32\n",
      "(240, 320, 3)\n",
      "32\n",
      "(240, 320, 3)\n",
      "32\n",
      "(240, 320, 3)\n",
      "32\n",
      "(240, 320, 3)\n",
      "32\n",
      "(240, 320, 3)\n",
      "32\n",
      "(240, 320, 3)\n",
      "32\n",
      "(240, 320, 3)\n",
      "32\n",
      "(240, 320, 3)\n",
      "32\n",
      "(240, 320, 3)\n",
      "32\n",
      "(240, 320, 3)\n",
      "32\n",
      "(240, 320, 3)\n",
      "32\n",
      "(240, 320, 3)\n",
      "32\n",
      "(240, 320, 3)\n",
      "32\n",
      "(240, 320, 3)\n",
      "32\n",
      "(240, 320, 3)\n",
      "32\n",
      "(240, 320, 3)\n",
      "27\n"
     ]
    },
    {
     "data": {
      "text/plain": [
       "33"
      ]
     },
     "execution_count": 9,
     "metadata": {},
     "output_type": "execute_result"
    }
   ],
   "source": [
    "train_X=[]\n",
    "for dirpath, dirnames, files in os.walk('.'):\n",
    "    print(\"=====================\")\n",
    "    print('dirpath : {}'.format(dirpath))\n",
    "    print('dirnames : {}'.format(dirnames))\n",
    "    if \"training_data\" in dirpath:\n",
    "        for file_name in files:\n",
    "            ## print(file_name)\n",
    "            train_X.append(file_name)\n",
    "            image = cv2.imread(dirpath+ \"/\"+file_name)\n",
    "            print(image.shape)\n",
    "            cv2.imshow(\"image\", image)\n",
    "            k = cv2.waitKey(0)\n",
    "            print(k)\n",
    "            if k == 27:    # Esc key to stop\n",
    "                cv2.destroyAllWindows()\n",
    "                break\n",
    "            elif k == 32:\n",
    "                continue\n",
    "len(train_X)"
   ]
  },
  {
   "cell_type": "code",
   "execution_count": 1,
   "id": "07a4422a",
   "metadata": {},
   "outputs": [
    {
     "ename": "ModuleNotFoundError",
     "evalue": "No module named 'tensorflow'",
     "output_type": "error",
     "traceback": [
      "\u001b[1;31m---------------------------------------------------------------------------\u001b[0m",
      "\u001b[1;31mModuleNotFoundError\u001b[0m                       Traceback (most recent call last)",
      "Cell \u001b[1;32mIn [1], line 1\u001b[0m\n\u001b[1;32m----> 1\u001b[0m \u001b[38;5;28;01mfrom\u001b[39;00m \u001b[38;5;21;01mtensorflow\u001b[39;00m\u001b[38;5;21;01m.\u001b[39;00m\u001b[38;5;21;01mkeras\u001b[39;00m\u001b[38;5;21;01m.\u001b[39;00m\u001b[38;5;21;01mlayers\u001b[39;00m \u001b[38;5;28;01mimport\u001b[39;00m Input, Conv2D, MaxPooling2D, Flatten, Dense, Dropout\n\u001b[0;32m      3\u001b[0m \u001b[38;5;28;01mdef\u001b[39;00m \u001b[38;5;21mcreate_cnn_model\u001b[39m(input_shape, num_conv_layers, num_filters, filter_sizes, pool_sizes,\n\u001b[0;32m      4\u001b[0m                      num_dense_layers, dense_units, dropout_rate, optimizer, loss):\n\u001b[0;32m      5\u001b[0m     \u001b[38;5;124;03m\"\"\"\u001b[39;00m\n\u001b[0;32m      6\u001b[0m \u001b[38;5;124;03m    Creates a convolutional neural network (CNN) model with specified parameters.\u001b[39;00m\n\u001b[0;32m      7\u001b[0m \n\u001b[1;32m   (...)\u001b[0m\n\u001b[0;32m     21\u001b[0m \u001b[38;5;124;03m        A compiled CNN model\u001b[39;00m\n\u001b[0;32m     22\u001b[0m \u001b[38;5;124;03m    \"\"\"\u001b[39;00m\n",
      "\u001b[1;31mModuleNotFoundError\u001b[0m: No module named 'tensorflow'"
     ]
    }
   ],
   "source": [
    "from tensorflow.keras.layers import Input, Conv2D, MaxPooling2D, Flatten, Dense, Dropout\n",
    "\n",
    "def create_cnn_model(input_shape, num_conv_layers, num_filters, filter_sizes, pool_sizes,\n",
    "                     num_dense_layers, dense_units, dropout_rate, optimizer, loss):\n",
    "    \"\"\"\n",
    "    Creates a convolutional neural network (CNN) model with specified parameters.\n",
    "\n",
    "    Parameters:\n",
    "        input_shape (tuple): shape of input data in the form (height, width, channels)\n",
    "        num_conv_layers (int): number of convolutional layers\n",
    "        num_filters (list): number of filters for each convolutional layer\n",
    "        filter_sizes (list): size of filters for each convolutional layer\n",
    "        pool_sizes (list): size of pooling windows for each pooling layer\n",
    "        num_dense_layers (int): number of dense layers\n",
    "        dense_units (list): number of units for each dense layer\n",
    "        dropout_rate (float): rate of dropout regularization\n",
    "        optimizer: optimizer function for training the model\n",
    "        loss: loss function for training the model\n",
    "\n",
    "    Returns:\n",
    "        A compiled CNN model\n",
    "    \"\"\"\n",
    "\n",
    "    # Define input layer\n",
    "    input_layer = Input(shape=input_shape)\n",
    "\n",
    "    # Add convolutional layers\n",
    "    x = input_layer\n",
    "    for i in range(num_conv_layers):\n",
    "        x = Conv2D(num_filters[i], filter_sizes[i], padding='same', activation='relu')(x)\n",
    "        x = MaxPooling2D(pool_sizes[i])(x)\n",
    "\n",
    "    # Flatten output of last convolutional layer\n",
    "    x = Flatten()(x)\n",
    "\n",
    "    # Add dense layers\n",
    "    for i in range(num_dense_layers):\n",
    "        x = Dense(dense_units[i], activation='relu')(x)\n",
    "        x = Dropout(dropout_rate)(x)\n",
    "\n",
    "    # Add output layer for regression\n",
    "    output_layer_reg = Dense(1, activation='linear', name='regression')(x)\n",
    "\n",
    "    # Add output layer for classification\n",
    "    output_layer_class = Dense(10, activation='softmax', name='classification')(x)\n",
    "\n",
    "    # Define model\n",
    "    model = Model(inputs=input_layer, outputs=[output_layer_reg, output_layer_class])\n",
    "\n",
    "    # Compile model\n",
    "    model.compile(optimizer=optimizer, loss=loss, metrics=['mse', 'accuracy'])\n",
    "\n",
    "    return model"
   ]
  },
  {
   "cell_type": "code",
   "execution_count": null,
   "id": "1621a23d",
   "metadata": {},
   "outputs": [],
   "source": []
  }
 ],
 "metadata": {
  "kernelspec": {
   "display_name": "Python 3 (ipykernel)",
   "language": "python",
   "name": "python3"
  },
  "language_info": {
   "codemirror_mode": {
    "name": "ipython",
    "version": 3
   },
   "file_extension": ".py",
   "mimetype": "text/x-python",
   "name": "python",
   "nbconvert_exporter": "python",
   "pygments_lexer": "ipython3",
   "version": "3.11.1"
  }
 },
 "nbformat": 4,
 "nbformat_minor": 5
}
