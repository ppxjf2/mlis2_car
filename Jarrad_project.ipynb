{
 "cells": [
  {
   "cell_type": "code",
   "execution_count": 8,
   "metadata": {
    "colab": {
     "base_uri": "https://localhost:8080/"
    },
    "id": "bnIbwiK7Ohv2",
    "outputId": "323b604b-5c49-4b2c-cf17-b06f09ffc176",
    "scrolled": true
   },
   "outputs": [
    {
     "name": "stdout",
     "output_type": "stream",
     "text": [
      "Num GPUs Available:  1\n"
     ]
    }
   ],
   "source": [
    "\n",
    "#%tensorflow_version 2.x\n",
    "import tensorflow as tf\n",
    "from tensorflow import keras\n",
    "from tensorflow.keras import datasets, layers, models, callbacks\n",
    "\n",
    "print(\"Num GPUs Available: \", len(tf.config.list_physical_devices('GPU')))\n",
    "\n",
    "# Helper libraries\n",
    "import numpy as np\n",
    "import pandas as pd\n",
    "import scipy.io as sio\n",
    "from sklearn.model_selection import train_test_split\n",
    "from sklearn.utils import compute_class_weight\n",
    "import math\n",
    "\n",
    "from keras.preprocessing import image\n",
    "from keras.preprocessing.image import ImageDataGenerator\n",
    "from pathlib import Path\n",
    "import os.path\n",
    "#import datetime, os\n",
    "\n",
    "from keras.applications import VGG16, VGG19, ResNet50, InceptionV3, InceptionResNetV2, Xception, MobileNet, DenseNet121, NASNetMobile, EfficientNetB0, MobileNetV2, MobileNetV3Large\n",
    "from tensorflow.python.keras.layers import Conv2D, Flatten, Dropout, Dense, MaxPooling2D\n",
    "from keras.models import load_model\n",
    "from keras.utils.vis_utils import plot_model\n",
    "from tensorflow.keras.models import model_from_json\n"
   ]
  },
  {
   "attachments": {},
   "cell_type": "markdown",
   "metadata": {},
   "source": [
    "## Data Splitting ##"
   ]
  },
  {
   "cell_type": "code",
   "execution_count": 9,
   "metadata": {
    "id": "49wbEaM1PCCR",
    "scrolled": true
   },
   "outputs": [
    {
     "name": "stdout",
     "output_type": "stream",
     "text": [
      "       image_id   angle  speed   filename\n",
      "0           414  0.8125    1.0    414.png\n",
      "1         17532  0.6875    1.0  17532.png\n",
      "2         16480  0.3125    0.0  16480.png\n",
      "3          6450  0.6875    0.0   6450.png\n",
      "4         12314  0.6250    0.0  12314.png\n",
      "...         ...     ...    ...        ...\n",
      "14821      9844  0.6875    1.0   9844.png\n",
      "14822     12367  0.5000    1.0  12367.png\n",
      "14823       343  0.9375    1.0    343.png\n",
      "14824      3838  0.6875    0.0   3838.png\n",
      "14825     13301  0.5000    1.0  13301.png\n",
      "\n",
      "[14826 rows x 4 columns]\n"
     ]
    }
   ],
   "source": [
    "# df = pd.read_csv(r'machine-learning-in-science-ii-2023/training_norm.csv')\n",
    "# df['filename'] = df[\"image_id\"].astype(str) + \".png\"\n",
    "# df = df.sample(frac=1).reset_index(drop=True)\n",
    "# df.to_csv(\"training_norm_shuffle.csv\", encoding='utf-8', index=False)\n",
    "\n",
    "df = pd.read_csv(r'machine-learning-in-science-ii-2023/training_norm_shuffle.csv')\n",
    "print(df)\n",
    "\n",
    "x_train = df[0:int(len(df) * 0.6)]\n",
    "x_validate = df[int(len(df) * 0.6):int(len(df) * 0.8)]\n",
    "x_evaluate = df[int(len(df) * 0.8):]\n",
    "\n",
    "# x_train = df[0:int(len(df) * 0.8)]\n",
    "# x_validate = df[int(len(df) * 0.8):]\n"
   ]
  },
  {
   "attachments": {},
   "cell_type": "markdown",
   "metadata": {},
   "source": [
    "## Data Preprocessing ##"
   ]
  },
  {
   "cell_type": "code",
   "execution_count": 10,
   "metadata": {},
   "outputs": [
    {
     "name": "stdout",
     "output_type": "stream",
     "text": [
      "Found 8895 validated image filenames.\n",
      "Found 8895 validated image filenames.\n",
      "Found 2965 validated image filenames.\n",
      "Found 2965 validated image filenames.\n",
      "Found 2966 validated image filenames.\n",
      "Found 2966 validated image filenames.\n"
     ]
    }
   ],
   "source": [
    "\n",
    "batch_size = 32\n",
    "img_size = [240, 320]\n",
    "shift = 0.1\n",
    "\n",
    "training_datagen = ImageDataGenerator(\n",
    "    rescale = 1./255,\n",
    "    fill_mode='nearest',\n",
    "    width_shift_range=shift,\n",
    "    height_shift_range=shift\n",
    ")\n",
    "\n",
    "speed_train_generator = training_datagen.flow_from_dataframe(\n",
    "    dataframe=x_train,\n",
    "    directory=\"machine-learning-in-science-ii-2023/training_data/training_data\",\n",
    "    x_col=\"filename\",\n",
    "    y_col=\"speed\",\n",
    "    target_size=img_size,\n",
    "    batch_size=batch_size,\n",
    "    shuffle=False,\n",
    "    class_mode='other')\n",
    "\n",
    "angle_train_generator = training_datagen.flow_from_dataframe(\n",
    "    dataframe=x_train,\n",
    "    directory=\"machine-learning-in-science-ii-2023/training_data/training_data\",\n",
    "    x_col=\"filename\",\n",
    "    y_col=\"angle\",\n",
    "    target_size=img_size,\n",
    "    batch_size=batch_size,\n",
    "    shuffle=False,\n",
    "    class_mode='other')\n",
    "\n",
    "validation_datagen = ImageDataGenerator(rescale = 1./255)\n",
    "\n",
    "speed_val_generator = validation_datagen.flow_from_dataframe(\n",
    "    dataframe=x_validate,\n",
    "    directory=\"machine-learning-in-science-ii-2023/training_data/training_data\",\n",
    "    x_col=\"filename\",\n",
    "    y_col=\"speed\",\n",
    "    target_size=img_size,\n",
    "    shuffle=False,\n",
    "    class_mode='other')\n",
    "\n",
    "angle_val_generator = validation_datagen.flow_from_dataframe(\n",
    "    dataframe=x_validate,\n",
    "    directory=\"machine-learning-in-science-ii-2023/training_data/training_data\",\n",
    "    x_col=\"filename\",\n",
    "    y_col=\"angle\",\n",
    "    target_size=img_size,\n",
    "    shuffle=False,\n",
    "    class_mode='other')\n",
    "\n",
    "evaluate_datagen = ImageDataGenerator(rescale = 1./255)\n",
    "\n",
    "speed_eval_generator = evaluate_datagen.flow_from_dataframe(\n",
    "    dataframe=x_evaluate,\n",
    "    directory=\"machine-learning-in-science-ii-2023/training_data/training_data\",\n",
    "    x_col=\"filename\",\n",
    "    y_col=\"speed\",\n",
    "    target_size=img_size,\n",
    "    shuffle=False,\n",
    "    class_mode='other')\n",
    "\n",
    "angle_eval_generator = evaluate_datagen.flow_from_dataframe(\n",
    "    dataframe=x_evaluate,\n",
    "    directory=\"machine-learning-in-science-ii-2023/training_data/training_data\",\n",
    "    x_col=\"filename\",\n",
    "    y_col=\"angle\",\n",
    "    target_size=img_size,\n",
    "    shuffle=False,\n",
    "    class_mode='other')\n",
    "\n"
   ]
  },
  {
   "cell_type": "code",
   "execution_count": 11,
   "metadata": {},
   "outputs": [
    {
     "name": "stdout",
     "output_type": "stream",
     "text": [
      "      filename  file type\n",
      "0        1.png     1  png\n",
      "1        2.png     2  png\n",
      "2        3.png     3  png\n",
      "3        4.png     4  png\n",
      "4        5.png     5  png\n",
      "...        ...   ...  ...\n",
      "1015  1016.png  1016  png\n",
      "1016  1017.png  1017  png\n",
      "1017  1018.png  1018  png\n",
      "1018  1019.png  1019  png\n",
      "1019  1020.png  1020  png\n",
      "\n",
      "[1020 rows x 3 columns]\n",
      "Found 1020 validated image filenames.\n"
     ]
    }
   ],
   "source": [
    "filename = os.listdir(\"machine-learning-in-science-ii-2023/test_data/test_data\") \n",
    "\n",
    "df = pd.DataFrame(filename)\n",
    "df.columns = [\"filename\"]\n",
    "\n",
    "df[['file', 'type']] = df.filename.str.split(\".\", expand = True)\n",
    "df[\"file\"] = df[\"file\"].astype(str).astype(int)\n",
    "\n",
    "df.sort_values(by=['file'], inplace=True)\n",
    "df.reset_index(drop=True, inplace=True)\n",
    "print(df)\n",
    "submission_datagen = ImageDataGenerator(rescale = 1./255)\n",
    "\n",
    "submission_images = submission_datagen.flow_from_dataframe(\n",
    "    dataframe=df,\n",
    "    directory=\"machine-learning-in-science-ii-2023/test_data/test_data\",\n",
    "    x_col=\"filename\",\n",
    "    target_size=img_size,\n",
    "    shuffle=False,\n",
    "    class_mode=None)"
   ]
  },
  {
   "attachments": {},
   "cell_type": "markdown",
   "metadata": {},
   "source": [
    "## Transfer Learning ##"
   ]
  },
  {
   "cell_type": "code",
   "execution_count": 30,
   "metadata": {},
   "outputs": [
    {
     "name": "stdout",
     "output_type": "stream",
     "text": [
      "WARNING:tensorflow:`input_shape` is undefined or non-square, or `rows` is not in [96, 128, 160, 192, 224]. Weights for input shape (224, 224) will be loaded as the default.\n"
     ]
    }
   ],
   "source": [
    "shape = (*img_size, 3) # inherited image size with 3 color filters\n",
    "input_shape = [240, 320, 3]\n",
    "transfer = MobileNetV2(\n",
    "    input_shape=input_shape, \n",
    "    include_top=False, \n",
    "    weights='imagenet',\n",
    "    classifier_activation=\"relu\"\n",
    ")\n",
    "\n",
    "for layer in transfer.layers[:-2]:\n",
    "    layer.trainable = False"
   ]
  },
  {
   "attachments": {},
   "cell_type": "markdown",
   "metadata": {},
   "source": [
    "## Model Creation and Evaluation ##"
   ]
  },
  {
   "cell_type": "code",
   "execution_count": 31,
   "metadata": {
    "id": "ibuJZqAXQrWJ"
   },
   "outputs": [],
   "source": [
    "# Speed CNN base\n",
    "speed_model = models.Sequential()\n",
    "\n",
    "speed_model.add(transfer)\n",
    "speed_model.build()\n",
    "        \n",
    "speed_model.add(layers.Conv2D(1280, (3, 3), strides=(2,2), activation='relu'))\n",
    "speed_model.add(layers.BatchNormalization())\n",
    "\n",
    "speed_model.add(layers.Flatten()),\n",
    "\n",
    "speed_model.add(layers.Dense(128, activation='relu'))\n",
    "speed_model.add(layers.BatchNormalization())\n",
    "speed_model.add(layers.Dropout(0.2))\n",
    "\n",
    "speed_model.add(layers.Dense(64, activation='relu'))\n",
    "speed_model.add(layers.BatchNormalization())\n",
    "speed_model.add(layers.Dropout(0.2))\n",
    "\n",
    "# Output layer\n",
    "speed_model.add(layers.Flatten())\n",
    "speed_model.add(layers.Dense(1,  activation='sigmoid'))"
   ]
  },
  {
   "cell_type": "code",
   "execution_count": 32,
   "metadata": {},
   "outputs": [],
   "source": [
    "# Angle CNN base\n",
    "angle_model = models.Sequential()\n",
    "\n",
    "angle_model.add(transfer)\n",
    "angle_model.build()\n",
    "        \n",
    "angle_model.add(layers.Conv2D(128, (3, 3), strides=(2,2), activation='relu'))\n",
    "angle_model.add(layers.BatchNormalization())\n",
    "\n",
    "angle_model.add(layers.Flatten()),\n",
    "\n",
    "# model_1.add(layers.Dense(128, activation='relu'))\n",
    "angle_model.add(layers.Dense(128, activation='relu'))\n",
    "angle_model.add(layers.BatchNormalization())\n",
    "angle_model.add(layers.Dropout(0.2))\n",
    "\n",
    "# Output layer\n",
    "angle_model.add(layers.Flatten())\n",
    "angle_model.add(layers.Dense(1,  activation='relu'))"
   ]
  },
  {
   "cell_type": "code",
   "execution_count": 33,
   "metadata": {},
   "outputs": [],
   "source": [
    "speed_model.build()\n",
    "#angle_model.build()"
   ]
  },
  {
   "cell_type": "code",
   "execution_count": 34,
   "metadata": {
    "colab": {
     "base_uri": "https://localhost:8080/"
    },
    "id": "fEzHX-7ESeCl",
    "outputId": "b1ad1ed9-87ef-4a37-b392-59e9ebb807d3",
    "scrolled": true
   },
   "outputs": [
    {
     "name": "stdout",
     "output_type": "stream",
     "text": [
      "Model: \"sequential_4\"\n",
      "_________________________________________________________________\n",
      " Layer (type)                Output Shape              Param #   \n",
      "=================================================================\n",
      " mobilenetv2_1.00_224 (Funct  (None, 8, 10, 1280)      2257984   \n",
      " ional)                                                          \n",
      "                                                                 \n",
      " conv2d_4 (Conv2D)           (None, 3, 4, 1280)        14746880  \n",
      "                                                                 \n",
      " batch_normalization_10 (Bat  (None, 3, 4, 1280)       5120      \n",
      " chNormalization)                                                \n",
      "                                                                 \n",
      " flatten_8 (Flatten)         (None, 15360)             0         \n",
      "                                                                 \n",
      " dense_10 (Dense)            (None, 128)               1966208   \n",
      "                                                                 \n",
      " batch_normalization_11 (Bat  (None, 128)              512       \n",
      " chNormalization)                                                \n",
      "                                                                 \n",
      " dropout_6 (Dropout)         (None, 128)               0         \n",
      "                                                                 \n",
      " dense_11 (Dense)            (None, 64)                8256      \n",
      "                                                                 \n",
      " batch_normalization_12 (Bat  (None, 64)               256       \n",
      " chNormalization)                                                \n",
      "                                                                 \n",
      " dropout_7 (Dropout)         (None, 64)                0         \n",
      "                                                                 \n",
      " flatten_9 (Flatten)         (None, 64)                0         \n",
      "                                                                 \n",
      " dense_12 (Dense)            (None, 1)                 65        \n",
      "                                                                 \n",
      "=================================================================\n",
      "Total params: 18,985,281\n",
      "Trainable params: 16,726,913\n",
      "Non-trainable params: 2,258,368\n",
      "_________________________________________________________________\n"
     ]
    }
   ],
   "source": [
    "speed_model.summary()\n",
    "#angle_model.summary()"
   ]
  },
  {
   "cell_type": "code",
   "execution_count": 35,
   "metadata": {
    "colab": {
     "base_uri": "https://localhost:8080/"
    },
    "id": "5loIug93TW1E",
    "outputId": "f470435d-196d-435b-cb96-39fc27d0552f",
    "scrolled": true
   },
   "outputs": [],
   "source": [
    "speed_model.compile(\n",
    "    optimizer=tf.optimizers.Adam(learning_rate=0.0001),\n",
    "    loss='mean_squared_error'\n",
    ")\n",
    "\n",
    "# angle_model.compile(\n",
    "#     optimizer=tf.optimizers.Adam(learning_rate=0.001),\n",
    "#     loss='mean_squared_error'\n",
    "# )\n",
    "\n",
    "es = tf.keras.callbacks.EarlyStopping(\n",
    "    monitor='val_loss',\n",
    "    min_delta=0.001,\n",
    "    patience=20,\n",
    "    verbose=1,\n",
    "    mode='min',\n",
    "    restore_best_weights=True\n",
    ")"
   ]
  },
  {
   "cell_type": "code",
   "execution_count": 36,
   "metadata": {},
   "outputs": [
    {
     "name": "stdout",
     "output_type": "stream",
     "text": [
      "Epoch 1/100\n",
      "278/278 [==============================] - 112s 389ms/step - loss: 0.0576 - val_loss: 0.0222\n",
      "Epoch 2/100\n",
      "278/278 [==============================] - 109s 393ms/step - loss: 0.0269 - val_loss: 0.0199\n",
      "Epoch 3/100\n",
      "278/278 [==============================] - 109s 392ms/step - loss: 0.0195 - val_loss: 0.0155\n",
      "Epoch 4/100\n",
      "278/278 [==============================] - 106s 380ms/step - loss: 0.0163 - val_loss: 0.0159\n",
      "Epoch 5/100\n",
      "278/278 [==============================] - 113s 406ms/step - loss: 0.0145 - val_loss: 0.0162\n",
      "Epoch 6/100\n",
      "278/278 [==============================] - 114s 410ms/step - loss: 0.0126 - val_loss: 0.0154\n",
      "Epoch 7/100\n",
      "278/278 [==============================] - 114s 411ms/step - loss: 0.0116 - val_loss: 0.0152\n",
      "Epoch 8/100\n",
      "278/278 [==============================] - 117s 419ms/step - loss: 0.0109 - val_loss: 0.0159\n",
      "Epoch 9/100\n",
      "278/278 [==============================] - 108s 389ms/step - loss: 0.0096 - val_loss: 0.0161\n",
      "Epoch 10/100\n",
      "278/278 [==============================] - 99s 354ms/step - loss: 0.0083 - val_loss: 0.0153\n",
      "Epoch 11/100\n",
      "278/278 [==============================] - 98s 353ms/step - loss: 0.0078 - val_loss: 0.0170\n",
      "Epoch 12/100\n",
      "278/278 [==============================] - 98s 354ms/step - loss: 0.0088 - val_loss: 0.0153\n",
      "Epoch 13/100\n",
      "278/278 [==============================] - 108s 388ms/step - loss: 0.0072 - val_loss: 0.0158\n",
      "Epoch 14/100\n",
      "278/278 [==============================] - 110s 394ms/step - loss: 0.0081 - val_loss: 0.0141\n",
      "Epoch 15/100\n",
      "278/278 [==============================] - 107s 386ms/step - loss: 0.0081 - val_loss: 0.0167\n",
      "Epoch 16/100\n",
      "278/278 [==============================] - 106s 383ms/step - loss: 0.0060 - val_loss: 0.0155\n",
      "Epoch 17/100\n",
      "278/278 [==============================] - 107s 385ms/step - loss: 0.0067 - val_loss: 0.0152\n",
      "Epoch 18/100\n",
      "278/278 [==============================] - 107s 384ms/step - loss: 0.0065 - val_loss: 0.0149\n",
      "Epoch 19/100\n",
      "278/278 [==============================] - 100s 360ms/step - loss: 0.0067 - val_loss: 0.0162\n",
      "Epoch 20/100\n",
      "278/278 [==============================] - 104s 372ms/step - loss: 0.0064 - val_loss: 0.0143\n",
      "Epoch 21/100\n",
      "278/278 [==============================] - 107s 383ms/step - loss: 0.0055 - val_loss: 0.0132\n",
      "Epoch 22/100\n",
      "278/278 [==============================] - 105s 377ms/step - loss: 0.0059 - val_loss: 0.0147\n",
      "Epoch 23/100\n",
      "278/278 [==============================] - 118s 424ms/step - loss: 0.0060 - val_loss: 0.0124\n",
      "Epoch 24/100\n",
      "278/278 [==============================] - 103s 369ms/step - loss: 0.0052 - val_loss: 0.0131\n",
      "Epoch 25/100\n",
      "278/278 [==============================] - 99s 357ms/step - loss: 0.0051 - val_loss: 0.0139\n",
      "Epoch 26/100\n",
      "278/278 [==============================] - 98s 351ms/step - loss: 0.0049 - val_loss: 0.0146\n",
      "Epoch 27/100\n",
      "278/278 [==============================] - 97s 350ms/step - loss: 0.0051 - val_loss: 0.0126\n",
      "Epoch 28/100\n",
      "278/278 [==============================] - 97s 349ms/step - loss: 0.0047 - val_loss: 0.0118\n",
      "Epoch 29/100\n",
      "278/278 [==============================] - 99s 355ms/step - loss: 0.0046 - val_loss: 0.0120\n",
      "Epoch 30/100\n",
      "278/278 [==============================] - 98s 353ms/step - loss: 0.0045 - val_loss: 0.0134\n",
      "Epoch 31/100\n",
      "278/278 [==============================] - 98s 354ms/step - loss: 0.0050 - val_loss: 0.0124\n",
      "Epoch 32/100\n",
      "278/278 [==============================] - 100s 359ms/step - loss: 0.0048 - val_loss: 0.0146\n",
      "Epoch 33/100\n",
      "278/278 [==============================] - 101s 362ms/step - loss: 0.0043 - val_loss: 0.0134\n",
      "Epoch 34/100\n",
      "278/278 [==============================] - 99s 354ms/step - loss: 0.0045 - val_loss: 0.0114\n",
      "Epoch 35/100\n",
      "278/278 [==============================] - 106s 380ms/step - loss: 0.0034 - val_loss: 0.0129\n",
      "Epoch 36/100\n",
      "278/278 [==============================] - 116s 417ms/step - loss: 0.0034 - val_loss: 0.0117\n",
      "Epoch 37/100\n",
      "278/278 [==============================] - 112s 401ms/step - loss: 0.0036 - val_loss: 0.0125\n",
      "Epoch 38/100\n",
      "278/278 [==============================] - 113s 407ms/step - loss: 0.0044 - val_loss: 0.0131\n",
      "Epoch 39/100\n",
      "278/278 [==============================] - 108s 389ms/step - loss: 0.0040 - val_loss: 0.0123\n",
      "Epoch 40/100\n",
      "278/278 [==============================] - 98s 351ms/step - loss: 0.0036 - val_loss: 0.0149\n",
      "Epoch 41/100\n",
      "278/278 [==============================] - 96s 344ms/step - loss: 0.0036 - val_loss: 0.0116\n",
      "Epoch 42/100\n",
      "278/278 [==============================] - 103s 371ms/step - loss: 0.0037 - val_loss: 0.0115\n",
      "Epoch 43/100\n",
      "278/278 [==============================] - 100s 360ms/step - loss: 0.0024 - val_loss: 0.0122\n",
      "Epoch 44/100\n",
      "278/278 [==============================] - 103s 369ms/step - loss: 0.0031 - val_loss: 0.0121\n",
      "Epoch 45/100\n",
      "278/278 [==============================] - 98s 352ms/step - loss: 0.0032 - val_loss: 0.0120\n",
      "Epoch 46/100\n",
      "278/278 [==============================] - 104s 373ms/step - loss: 0.0026 - val_loss: 0.0098\n",
      "Epoch 47/100\n",
      "278/278 [==============================] - 105s 378ms/step - loss: 0.0030 - val_loss: 0.0113\n",
      "Epoch 48/100\n",
      "278/278 [==============================] - 101s 363ms/step - loss: 0.0032 - val_loss: 0.0102\n",
      "Epoch 49/100\n",
      "278/278 [==============================] - 104s 373ms/step - loss: 0.0031 - val_loss: 0.0107\n",
      "Epoch 50/100\n",
      "278/278 [==============================] - 104s 374ms/step - loss: 0.0036 - val_loss: 0.0112\n",
      "Epoch 51/100\n",
      "278/278 [==============================] - 103s 372ms/step - loss: 0.0026 - val_loss: 0.0124\n",
      "Epoch 52/100\n",
      "278/278 [==============================] - 108s 390ms/step - loss: 0.0026 - val_loss: 0.0108\n",
      "Epoch 53/100\n",
      "278/278 [==============================] - 102s 367ms/step - loss: 0.0018 - val_loss: 0.0111\n",
      "Epoch 54/100\n",
      "278/278 [==============================] - 104s 373ms/step - loss: 0.0027 - val_loss: 0.0125\n",
      "Epoch 55/100\n",
      "278/278 [==============================] - 109s 393ms/step - loss: 0.0018 - val_loss: 0.0129\n",
      "Epoch 56/100\n",
      "278/278 [==============================] - 114s 409ms/step - loss: 0.0021 - val_loss: 0.0128\n",
      "Epoch 57/100\n",
      "278/278 [==============================] - 108s 387ms/step - loss: 0.0034 - val_loss: 0.0153\n",
      "Epoch 58/100\n",
      "278/278 [==============================] - 109s 391ms/step - loss: 0.0030 - val_loss: 0.0105\n",
      "Epoch 59/100\n",
      "278/278 [==============================] - 111s 399ms/step - loss: 0.0022 - val_loss: 0.0125\n",
      "Epoch 60/100\n",
      "278/278 [==============================] - 112s 402ms/step - loss: 0.0022 - val_loss: 0.0122\n",
      "Epoch 61/100\n",
      "278/278 [==============================] - 108s 389ms/step - loss: 0.0020 - val_loss: 0.0111\n",
      "Epoch 62/100\n",
      "278/278 [==============================] - 111s 400ms/step - loss: 0.0024 - val_loss: 0.0110\n",
      "Epoch 63/100\n",
      "278/278 [==============================] - 120s 431ms/step - loss: 0.0024 - val_loss: 0.0121\n",
      "Epoch 64/100\n",
      "278/278 [==============================] - 125s 450ms/step - loss: 0.0020 - val_loss: 0.0109\n",
      "Epoch 65/100\n",
      "278/278 [==============================] - 116s 415ms/step - loss: 0.0020 - val_loss: 0.0097\n",
      "Epoch 66/100\n",
      "278/278 [==============================] - ETA: 0s - loss: 0.0022Restoring model weights from the end of the best epoch: 46.\n",
      "278/278 [==============================] - 110s 395ms/step - loss: 0.0022 - val_loss: 0.0108\n",
      "Epoch 66: early stopping\n"
     ]
    }
   ],
   "source": [
    "history = speed_model.fit(\n",
    "    speed_train_generator,\n",
    "    batch_size=batch_size,\n",
    "    validation_data=speed_val_generator,\n",
    "    callbacks=[es],\n",
    "    epochs=100\n",
    ")"
   ]
  },
  {
   "cell_type": "code",
   "execution_count": 37,
   "metadata": {},
   "outputs": [
    {
     "name": "stdout",
     "output_type": "stream",
     "text": [
      "93/93 [==============================] - 9s 92ms/step - loss: 0.0138\n"
     ]
    }
   ],
   "source": [
    "test_loss = speed_model.evaluate(\n",
    "    speed_eval_generator,\n",
    "    verbose=1\n",
    ")"
   ]
  },
  {
   "cell_type": "code",
   "execution_count": 38,
   "metadata": {},
   "outputs": [
    {
     "ename": "RuntimeError",
     "evalue": "You must compile your model before training/testing. Use `model.compile(optimizer, loss)`.",
     "output_type": "error",
     "traceback": [
      "\u001b[0;31m---------------------------------------------------------------------------\u001b[0m",
      "\u001b[0;31mRuntimeError\u001b[0m                              Traceback (most recent call last)",
      "Cell \u001b[0;32mIn[38], line 1\u001b[0m\n\u001b[0;32m----> 1\u001b[0m history \u001b[39m=\u001b[39m angle_model\u001b[39m.\u001b[39;49mfit(\n\u001b[1;32m      2\u001b[0m     angle_train_generator,\n\u001b[1;32m      3\u001b[0m     batch_size\u001b[39m=\u001b[39;49mbatch_size,\n\u001b[1;32m      4\u001b[0m     validation_data\u001b[39m=\u001b[39;49mangle_val_generator,\n\u001b[1;32m      5\u001b[0m     callbacks\u001b[39m=\u001b[39;49m[es],\n\u001b[1;32m      6\u001b[0m     epochs\u001b[39m=\u001b[39;49m\u001b[39m100\u001b[39;49m\n\u001b[1;32m      7\u001b[0m )\n",
      "File \u001b[0;32m~/miniconda3/envs/mlis_cw_car/lib/python3.9/site-packages/keras/utils/traceback_utils.py:70\u001b[0m, in \u001b[0;36mfilter_traceback.<locals>.error_handler\u001b[0;34m(*args, **kwargs)\u001b[0m\n\u001b[1;32m     67\u001b[0m     filtered_tb \u001b[39m=\u001b[39m _process_traceback_frames(e\u001b[39m.\u001b[39m__traceback__)\n\u001b[1;32m     68\u001b[0m     \u001b[39m# To get the full stack trace, call:\u001b[39;00m\n\u001b[1;32m     69\u001b[0m     \u001b[39m# `tf.debugging.disable_traceback_filtering()`\u001b[39;00m\n\u001b[0;32m---> 70\u001b[0m     \u001b[39mraise\u001b[39;00m e\u001b[39m.\u001b[39mwith_traceback(filtered_tb) \u001b[39mfrom\u001b[39;00m \u001b[39mNone\u001b[39m\n\u001b[1;32m     71\u001b[0m \u001b[39mfinally\u001b[39;00m:\n\u001b[1;32m     72\u001b[0m     \u001b[39mdel\u001b[39;00m filtered_tb\n",
      "File \u001b[0;32m~/miniconda3/envs/mlis_cw_car/lib/python3.9/site-packages/keras/engine/training.py:3690\u001b[0m, in \u001b[0;36mModel._assert_compile_was_called\u001b[0;34m(self)\u001b[0m\n\u001b[1;32m   3684\u001b[0m \u001b[39mdef\u001b[39;00m \u001b[39m_assert_compile_was_called\u001b[39m(\u001b[39mself\u001b[39m):\n\u001b[1;32m   3685\u001b[0m     \u001b[39m# Checks whether `compile` has been called. If it has been called,\u001b[39;00m\n\u001b[1;32m   3686\u001b[0m     \u001b[39m# then the optimizer is set. This is different from whether the\u001b[39;00m\n\u001b[1;32m   3687\u001b[0m     \u001b[39m# model is compiled\u001b[39;00m\n\u001b[1;32m   3688\u001b[0m     \u001b[39m# (i.e. whether the model is built and its inputs/outputs are set).\u001b[39;00m\n\u001b[1;32m   3689\u001b[0m     \u001b[39mif\u001b[39;00m \u001b[39mnot\u001b[39;00m \u001b[39mself\u001b[39m\u001b[39m.\u001b[39m_is_compiled:\n\u001b[0;32m-> 3690\u001b[0m         \u001b[39mraise\u001b[39;00m \u001b[39mRuntimeError\u001b[39;00m(\n\u001b[1;32m   3691\u001b[0m             \u001b[39m\"\u001b[39m\u001b[39mYou must compile your model before \u001b[39m\u001b[39m\"\u001b[39m\n\u001b[1;32m   3692\u001b[0m             \u001b[39m\"\u001b[39m\u001b[39mtraining/testing. \u001b[39m\u001b[39m\"\u001b[39m\n\u001b[1;32m   3693\u001b[0m             \u001b[39m\"\u001b[39m\u001b[39mUse `model.compile(optimizer, loss)`.\u001b[39m\u001b[39m\"\u001b[39m\n\u001b[1;32m   3694\u001b[0m         )\n",
      "\u001b[0;31mRuntimeError\u001b[0m: You must compile your model before training/testing. Use `model.compile(optimizer, loss)`."
     ]
    }
   ],
   "source": [
    "history = angle_model.fit(\n",
    "    angle_train_generator,\n",
    "    batch_size=batch_size,\n",
    "    validation_data=angle_val_generator,\n",
    "    callbacks=[es],\n",
    "    epochs=100\n",
    ")"
   ]
  },
  {
   "cell_type": "code",
   "execution_count": null,
   "metadata": {},
   "outputs": [
    {
     "name": "stdout",
     "output_type": "stream",
     "text": [
      "93/93 [==============================] - 8s 83ms/step - loss: 0.0066\n"
     ]
    }
   ],
   "source": [
    "test_loss = angle_model.evaluate(\n",
    "    angle_eval_generator,\n",
    "    verbose=1\n",
    ")"
   ]
  },
  {
   "cell_type": "code",
   "execution_count": 67,
   "metadata": {},
   "outputs": [],
   "source": [
    "speed_model.save(\"speed-model.h5\")\n",
    "#angle_model.save(\"angle-model1.h5\")"
   ]
  },
  {
   "attachments": {},
   "cell_type": "markdown",
   "metadata": {},
   "source": [
    "## Model Prediction ##"
   ]
  },
  {
   "cell_type": "code",
   "execution_count": null,
   "metadata": {
    "colab": {
     "base_uri": "https://localhost:8080/"
    },
    "id": "6I2vJFiiTkQE",
    "outputId": "83815ac0-1917-4508-b093-bbf2ce91ea08"
   },
   "outputs": [
    {
     "name": "stdout",
     "output_type": "stream",
     "text": [
      "32/32 [==============================] - 3s 80ms/step\n",
      "32/32 [==============================] - 3s 69ms/step\n"
     ]
    }
   ],
   "source": [
    "angle_prediction = angle_model.predict(submission_images)\n",
    "speed_prediction = speed_model.predict(submission_images)\n",
    "\n",
    "speed_prediction += 0.5\n",
    "speed_prediction = np.floor(speed_prediction)\n",
    "\n",
    "submission = {\"angle\":angle_prediction , \"speed\":speed_prediction}\n",
    "\n",
    "df = pd.DataFrame(submission)\n",
    "df.index += 1 \n",
    "df.to_csv('Submission.csv', index_label=\"image_id\")\n"
   ]
  },
  {
   "cell_type": "code",
   "execution_count": null,
   "metadata": {},
   "outputs": [
    {
     "data": {
      "text/html": [
       "<div>\n",
       "<style scoped>\n",
       "    .dataframe tbody tr th:only-of-type {\n",
       "        vertical-align: middle;\n",
       "    }\n",
       "\n",
       "    .dataframe tbody tr th {\n",
       "        vertical-align: top;\n",
       "    }\n",
       "\n",
       "    .dataframe thead th {\n",
       "        text-align: right;\n",
       "    }\n",
       "</style>\n",
       "<table border=\"1\" class=\"dataframe\">\n",
       "  <thead>\n",
       "    <tr style=\"text-align: right;\">\n",
       "      <th></th>\n",
       "      <th>Train</th>\n",
       "      <th>Predicted</th>\n",
       "      <th>Difference</th>\n",
       "    </tr>\n",
       "  </thead>\n",
       "  <tbody>\n",
       "    <tr>\n",
       "      <th>11860</th>\n",
       "      <td>0.6875</td>\n",
       "      <td>0.686453</td>\n",
       "      <td>0.001047</td>\n",
       "    </tr>\n",
       "    <tr>\n",
       "      <th>11861</th>\n",
       "      <td>0.7500</td>\n",
       "      <td>0.751384</td>\n",
       "      <td>0.001384</td>\n",
       "    </tr>\n",
       "    <tr>\n",
       "      <th>11862</th>\n",
       "      <td>0.6250</td>\n",
       "      <td>0.693253</td>\n",
       "      <td>0.068253</td>\n",
       "    </tr>\n",
       "    <tr>\n",
       "      <th>11863</th>\n",
       "      <td>0.6875</td>\n",
       "      <td>0.623532</td>\n",
       "      <td>0.063968</td>\n",
       "    </tr>\n",
       "    <tr>\n",
       "      <th>11864</th>\n",
       "      <td>0.6875</td>\n",
       "      <td>0.730291</td>\n",
       "      <td>0.042791</td>\n",
       "    </tr>\n",
       "    <tr>\n",
       "      <th>...</th>\n",
       "      <td>...</td>\n",
       "      <td>...</td>\n",
       "      <td>...</td>\n",
       "    </tr>\n",
       "    <tr>\n",
       "      <th>14821</th>\n",
       "      <td>0.6875</td>\n",
       "      <td>0.708553</td>\n",
       "      <td>0.021053</td>\n",
       "    </tr>\n",
       "    <tr>\n",
       "      <th>14822</th>\n",
       "      <td>0.5000</td>\n",
       "      <td>0.433915</td>\n",
       "      <td>0.066085</td>\n",
       "    </tr>\n",
       "    <tr>\n",
       "      <th>14823</th>\n",
       "      <td>0.9375</td>\n",
       "      <td>0.777668</td>\n",
       "      <td>0.159832</td>\n",
       "    </tr>\n",
       "    <tr>\n",
       "      <th>14824</th>\n",
       "      <td>0.6875</td>\n",
       "      <td>0.794277</td>\n",
       "      <td>0.106777</td>\n",
       "    </tr>\n",
       "    <tr>\n",
       "      <th>14825</th>\n",
       "      <td>0.5000</td>\n",
       "      <td>0.549592</td>\n",
       "      <td>0.049592</td>\n",
       "    </tr>\n",
       "  </tbody>\n",
       "</table>\n",
       "<p>2966 rows × 3 columns</p>\n",
       "</div>"
      ],
      "text/plain": [
       "        Train  Predicted  Difference\n",
       "11860  0.6875   0.686453    0.001047\n",
       "11861  0.7500   0.751384    0.001384\n",
       "11862  0.6250   0.693253    0.068253\n",
       "11863  0.6875   0.623532    0.063968\n",
       "11864  0.6875   0.730291    0.042791\n",
       "...       ...        ...         ...\n",
       "14821  0.6875   0.708553    0.021053\n",
       "14822  0.5000   0.433915    0.066085\n",
       "14823  0.9375   0.777668    0.159832\n",
       "14824  0.6875   0.794277    0.106777\n",
       "14825  0.5000   0.549592    0.049592\n",
       "\n",
       "[2966 rows x 3 columns]"
      ]
     },
     "execution_count": 26,
     "metadata": {},
     "output_type": "execute_result"
    }
   ],
   "source": [
    "diff = abs(x_evaluate[\"angle\"] - angle_prediction)\n",
    "results = pd.DataFrame({\"Train\":x_evaluate[\"angle\"], \"Predicted\":angle_prediction, \"Difference\":diff})\n",
    "results"
   ]
  },
  {
   "cell_type": "code",
   "execution_count": null,
   "metadata": {},
   "outputs": [],
   "source": [
    "results = pd.DataFrame({\"Train\":x_evaluate[\"speed\"],\"Predicted\":speed_prediction})\n",
    "#results"
   ]
  },
  {
   "attachments": {},
   "cell_type": "markdown",
   "metadata": {},
   "source": [
    "## Fine-tuning ##"
   ]
  },
  {
   "cell_type": "code",
   "execution_count": null,
   "metadata": {},
   "outputs": [],
   "source": [
    "speed_model = load_model(\"speed-model.h5\")\n",
    "angle_model = load_model(\"angle-model1.h5\")\n",
    "\n",
    "\n",
    "angle_transfer = angle_model.layers[0]\n",
    "angle_transfer.trainable = True\n",
    "\n",
    "for layer in angle_transfer.layers[:-25]:\n",
    "    layer.trainable = False\n",
    "        \n",
    "angle_model.summary()\n",
    "\n",
    "\n",
    "speed_transfer = speed_model.layers[0]\n",
    "speed_transfer.trainable = True\n",
    "\n",
    "for layer in speed_transfer.layers[:-25]:\n",
    "    layer.trainable = False\n",
    "    \n",
    "speed_model.summary()\n"
   ]
  },
  {
   "cell_type": "code",
   "execution_count": null,
   "metadata": {},
   "outputs": [],
   "source": [
    "\n",
    "speed_model.compile(\n",
    "    optimizer=tf.optimizers.Adam(learning_rate=0.00001),\n",
    "    loss='mean_squared_error'\n",
    ")\n",
    "\n",
    "angle_model.compile(\n",
    "    optimizer=tf.optimizers.Adam(learning_rate=0.00001),\n",
    "    loss='mean_squared_error'\n",
    ")\n",
    "\n",
    "es = tf.keras.callbacks.EarlyStopping(\n",
    "    monitor='val_loss',\n",
    "    min_delta=0.0005,\n",
    "    patience=30,\n",
    "    verbose=1,\n",
    "    mode='min',\n",
    "    restore_best_weights=True\n",
    ")\n"
   ]
  },
  {
   "cell_type": "code",
   "execution_count": null,
   "metadata": {},
   "outputs": [],
   "source": [
    "history = angle_model.fit(\n",
    "    angle_train_generator,\n",
    "    batch_size=batch_size,\n",
    "    validation_data=angle_val_generator,\n",
    "    callbacks=[es],\n",
    "    epochs=300\n",
    ")"
   ]
  },
  {
   "cell_type": "code",
   "execution_count": null,
   "metadata": {},
   "outputs": [],
   "source": [
    "test_loss = angle_model.evaluate(\n",
    "    angle_eval_generator,\n",
    "    verbose=1\n",
    ")"
   ]
  },
  {
   "attachments": {},
   "cell_type": "markdown",
   "metadata": {},
   "source": [
    "history = speed_model.fit(\n",
    "    speed_train_generator,\n",
    "    batch_size=batch_size,\n",
    "    validation_data=speed_val_generator,\n",
    "    callbacks=[es],\n",
    "    epochs=300\n",
    ")"
   ]
  },
  {
   "cell_type": "code",
   "execution_count": null,
   "metadata": {},
   "outputs": [],
   "source": [
    "from sklearn.metrics import classification_report\n",
    "\n",
    "test_loss = speed_model.evaluate(\n",
    "    speed_eval_generator,\n",
    "    verbose=1\n",
    ")\n"
   ]
  },
  {
   "cell_type": "code",
   "execution_count": null,
   "metadata": {},
   "outputs": [],
   "source": [
    "speed_model.save(\"speed-model-fine-tuning.h5\")\n",
    "angle_model.save(\"angle-model-fine-tuning.h5\")"
   ]
  },
  {
   "cell_type": "code",
   "execution_count": null,
   "metadata": {},
   "outputs": [],
   "source": [
    "angle_prediction = angle_model.predict(submission_images)\n",
    "speed_prediction = speed_model.predict(submission_images)\n",
    "\n",
    "speed_prediction += 0.5\n",
    "speed_prediction = np.floor(speed_prediction)\n",
    "\n",
    "submission = {\"angle\":angle_prediction , \"speed\":speed_prediction}\n",
    "\n",
    "df = pd.DataFrame(submission)\n",
    "df.index += 1 \n",
    "df.to_csv('Submission-fine-tuning.csv', index_label=\"image_id\")"
   ]
  },
  {
   "cell_type": "code",
   "execution_count": null,
   "metadata": {},
   "outputs": [],
   "source": [
    "model = load_model(\"model-fine-tuning.hdf5\")\n",
    "plot_model(model, show_layer_names=True, show_shapes=True,show_layer_activations=True)"
   ]
  },
  {
   "attachments": {},
   "cell_type": "markdown",
   "metadata": {},
   "source": [
    "## Clean Image File ##"
   ]
  },
  {
   "cell_type": "code",
   "execution_count": null,
   "metadata": {},
   "outputs": [
    {
     "name": "stdout",
     "output_type": "stream",
     "text": [
      "Found 14826 validated image filenames.\n"
     ]
    },
    {
     "name": "stderr",
     "output_type": "stream",
     "text": [
      "2023-03-28 16:03:45.536609: I tensorflow/compiler/xla/stream_executor/cuda/cuda_dnn.cc:428] Loaded cuDNN version 8100\n",
      "2023-03-28 16:03:47.001088: I tensorflow/tsl/platform/default/subprocess.cc:304] Start cannot spawn child process: Permission denied\n"
     ]
    },
    {
     "name": "stdout",
     "output_type": "stream",
     "text": [
      "  4/464 [..............................] - ETA: 25s   "
     ]
    },
    {
     "name": "stderr",
     "output_type": "stream",
     "text": [
      "2023-03-28 16:03:48.709861: I tensorflow/compiler/xla/stream_executor/cuda/cuda_blas.cc:630] TensorFloat-32 will be used for the matrix multiplication. This will only be logged once.\n"
     ]
    },
    {
     "name": "stdout",
     "output_type": "stream",
     "text": [
      "464/464 [==============================] - 46s 76ms/step\n"
     ]
    }
   ],
   "source": [
    "speed_model = load_model(\"speed-model.h5\")\n",
    "angle_model = load_model(\"angle-model.h5\")\n",
    "\n",
    "model = load_model(\"model.h5\")\n",
    "\n",
    "x_all = pd.read_csv(r'machine-learning-in-science-ii-2023/training_norm.csv')\n",
    "x_all['filename'] = x_all[\"image_id\"].astype(str) + \".png\"\n",
    "\n",
    "clean_datagen = ImageDataGenerator(rescale = 1./255)\n",
    "\n",
    "clean_generator = clean_datagen.flow_from_dataframe(\n",
    "    dataframe=x_all,\n",
    "    directory=\"machine-learning-in-science-ii-2023/training_data/training_data\",\n",
    "    x_col=\"filename\",\n",
    "    target_size=img_size,\n",
    "    shuffle=False,\n",
    "    class_mode=None)\n",
    "\n",
    "angle_prediction = angle_model.predict(clean_generator)\n",
    "speed_prediction = speed_model.predict(clean_generator)\n",
    "\n",
    "# predict = model.predict(clean_generator)\n",
    "\n",
    "# angle_prediction = predict[:,0]\n",
    "# speed_prediction = predict[:,1]\n",
    "\n",
    "diff = abs(x_all[\"angle\"] - angle_prediction)\n",
    "\n",
    "speed_prediction += 0.5\n",
    "speed_prediction = np.floor(speed_prediction)\n",
    "\n",
    "correct = (x_all[\"speed\"] == speed_prediction)\n",
    "\n",
    "clean_data = {\n",
    "    \"image_id\":x_all[\"image_id\"], \n",
    "    \"Actual Angle\":x_all[\"angle\"], \n",
    "    \"Predicted Angle\":angle_prediction, \n",
    "    \"Angle Difference\":diff, \n",
    "    \"Actual Speed\":x_all[\"speed\"], \n",
    "    \"Predicted Speed\":speed_prediction,\n",
    "    \"Correct?\":correct\n",
    "}\n",
    "\n",
    "df = pd.DataFrame(clean_data)\n",
    "df.index += 1 \n",
    "df.to_csv('clean-results.csv', index_label=\"image_id\")\n"
   ]
  },
  {
   "attachments": {},
   "cell_type": "markdown",
   "metadata": {},
   "source": [
    "## Run other models ##"
   ]
  },
  {
   "cell_type": "code",
   "execution_count": 12,
   "metadata": {},
   "outputs": [
    {
     "name": "stderr",
     "output_type": "stream",
     "text": [
      "2023-03-29 00:04:33.541672: I tensorflow/compiler/xla/stream_executor/cuda/cuda_dnn.cc:428] Loaded cuDNN version 8100\n",
      "2023-03-29 00:04:35.216262: I tensorflow/tsl/platform/default/subprocess.cc:304] Start cannot spawn child process: Permission denied\n"
     ]
    },
    {
     "name": "stdout",
     "output_type": "stream",
     "text": [
      " 3/32 [=>............................] - ETA: 1s  "
     ]
    },
    {
     "name": "stderr",
     "output_type": "stream",
     "text": [
      "2023-03-29 00:04:37.229596: I tensorflow/compiler/xla/stream_executor/cuda/cuda_blas.cc:630] TensorFloat-32 will be used for the matrix multiplication. This will only be logged once.\n"
     ]
    },
    {
     "name": "stdout",
     "output_type": "stream",
     "text": [
      "32/32 [==============================] - 9s 107ms/step\n",
      "32/32 [==============================] - 4s 91ms/step\n"
     ]
    }
   ],
   "source": [
    "angle_model = load_model(\"angle-model.h5\")\n",
    "speed_model = load_model(\"speed-model.h5\")\n",
    "\n",
    "speed_prediction = speed_model.predict(submission_images)\n",
    "angle_prediction = angle_model.predict(submission_images)\n",
    "\n",
    "speed_prediction = speed_prediction[0]\n",
    "\n",
    "speed_prediction = speed_prediction.flatten()\n",
    "angle_prediction = angle_prediction.flatten()\n",
    "\n",
    "speed_prediction += 0.5\n",
    "speed_prediction = np.floor(speed_prediction)\n",
    "\n",
    "submission = {\"angle\":angle_prediction , \"speed\":speed_prediction}\n",
    "\n",
    "df = pd.DataFrame(submission)\n",
    "df.index += 1 \n",
    "df.to_csv('other-submission.csv', index_label=\"image_id\")"
   ]
  },
  {
   "cell_type": "code",
   "execution_count": 14,
   "metadata": {},
   "outputs": [],
   "source": [
    "\n",
    "\n"
   ]
  },
  {
   "cell_type": "code",
   "execution_count": null,
   "metadata": {},
   "outputs": [],
   "source": [
    "speed_model = load_model(\"sakthi-model.hdf5\")\n",
    "\n",
    "test_loss = speed_model.evaluate(\n",
    "    speed_eval_generator,\n",
    "    verbose=1\n",
    ")"
   ]
  }
 ],
 "metadata": {
  "colab": {
   "collapsed_sections": [],
   "name": "project.ipynb",
   "provenance": []
  },
  "kernelspec": {
   "display_name": "mlis2_car",
   "language": "python",
   "name": "python3"
  },
  "language_info": {
   "codemirror_mode": {
    "name": "ipython",
    "version": 3
   },
   "file_extension": ".py",
   "mimetype": "text/x-python",
   "name": "python",
   "nbconvert_exporter": "python",
   "pygments_lexer": "ipython3",
   "version": "3.9.16"
  },
  "vscode": {
   "interpreter": {
    "hash": "83badb9abfa833c8f944a253dee1819f5989bd8424f7fb8e0e95b6cecc08b674"
   }
  }
 },
 "nbformat": 4,
 "nbformat_minor": 1
}
