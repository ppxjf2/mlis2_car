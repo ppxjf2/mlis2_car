{
 "cells": [
  {
   "cell_type": "code",
   "execution_count": 76,
   "metadata": {
    "colab": {
     "base_uri": "https://localhost:8080/"
    },
    "id": "bnIbwiK7Ohv2",
    "outputId": "323b604b-5c49-4b2c-cf17-b06f09ffc176",
    "scrolled": true
   },
   "outputs": [
    {
     "name": "stdout",
     "output_type": "stream",
     "text": [
      "<module 'tensorflow._api.v2.version' from '/home/jarrad_foley135/miniconda3/envs/mlis_cw_car/lib/python3.9/site-packages/tensorflow/_api/v2/version/__init__.py'>\n",
      "Num GPUs Available:  1\n"
     ]
    }
   ],
   "source": [
    "#%tensorflow_version 2.x\n",
    "import tensorflow as tf\n",
    "from tensorflow import keras\n",
    "from tensorflow.keras import datasets, layers, models, callbacks\n",
    "  \n",
    "print(tf.version)\n",
    "\n",
    "print(\"Num GPUs Available: \", len(tf.config.list_physical_devices('GPU')))\n",
    "\n",
    "\n",
    "# Helper libraries\n",
    "import numpy as np\n",
    "import pandas as pd\n",
    "#import matplotlib.pyplot as plt\n",
    "import scipy.io as sio\n",
    "from sklearn.model_selection import train_test_split\n",
    "from sklearn.utils import compute_class_weight\n",
    "\n",
    "from keras.preprocessing import image\n",
    "from keras.preprocessing.image import ImageDataGenerator\n",
    "from pathlib import Path\n",
    "import os.path\n",
    "#import datetime, os\n",
    "\n",
    "from keras.applications import VGG16, VGG19, ResNet50, InceptionV3, InceptionResNetV2, Xception, MobileNet, DenseNet121, \\\n",
    "    NASNetMobile, EfficientNetB0, MobileNetV2, MobileNetV3Large\n",
    "from tensorflow.python.keras.layers import Conv2D, Flatten, Dropout, Dense, MaxPooling2D\n",
    "from keras.models import load_model\n"
   ]
  },
  {
   "cell_type": "code",
   "execution_count": 77,
   "metadata": {
    "id": "49wbEaM1PCCR",
    "scrolled": true
   },
   "outputs": [
    {
     "name": "stdout",
     "output_type": "stream",
     "text": [
      "       image_id   angle  speed   filename\n",
      "0           414  0.8125    1.0    414.png\n",
      "1         17532  0.6875    1.0  17532.png\n",
      "2         16480  0.3125    0.0  16480.png\n",
      "3          6450  0.6875    0.0   6450.png\n",
      "4         12314  0.6250    0.0  12314.png\n",
      "...         ...     ...    ...        ...\n",
      "14821      9844  0.6875    1.0   9844.png\n",
      "14822     12367  0.5000    1.0  12367.png\n",
      "14823       343  0.9375    1.0    343.png\n",
      "14824      3838  0.6875    0.0   3838.png\n",
      "14825     13301  0.5000    1.0  13301.png\n",
      "\n",
      "[14826 rows x 4 columns]\n"
     ]
    }
   ],
   "source": [
    "batch_size = 16\n",
    "img_size = [240, 320]\n",
    "\n",
    "# df = pd.read_csv(r'machine-learning-in-science-ii-2023/training_norm.csv')\n",
    "# df['filename'] = df[\"image_id\"].astype(str) + \".png\"\n",
    "\n",
    "# df = df.sample(frac=1).reset_index(drop=True)\n",
    "# print(df)\n",
    "\n",
    "#df.to_csv(\"training_norm_shuffle.csv\", encoding='utf-8', index=False)\n",
    "\n",
    "df = pd.read_csv(r'machine-learning-in-science-ii-2023/training_norm_shuffle.csv')\n",
    "print(df)\n",
    "\n",
    "x_train = df[0:int(len(df) * 0.1)]\n",
    "x_validate = df[int(len(df) * 0.6):int(len(df) * 0.8)]\n",
    "x_evaluate = df[int(len(df) * 0.8):]\n",
    "\n",
    "# x_train = df[0:int(len(df) * 0.8)]\n",
    "# x_validate = df[int(len(df) * 0.8):]\n"
   ]
  },
  {
   "cell_type": "code",
   "execution_count": 78,
   "metadata": {},
   "outputs": [
    {
     "name": "stdout",
     "output_type": "stream",
     "text": [
      "Found 8895 validated image filenames.\n",
      "Found 2965 validated image filenames.\n",
      "Found 2966 validated image filenames.\n"
     ]
    }
   ],
   "source": [
    "\n",
    "shift = 0.1\n",
    "\n",
    "training_datagen = ImageDataGenerator(\n",
    "    rescale = 1./255,\n",
    "    fill_mode='nearest',\n",
    "    # width_shift_range=shift,\n",
    "    # height_shift_range=shift\n",
    ")\n",
    "\n",
    "train_generator = training_datagen.flow_from_dataframe(\n",
    "    dataframe=x_train,\n",
    "    directory=\"machine-learning-in-science-ii-2023/training_data/training_data\",\n",
    "    x_col=\"filename\",\n",
    "    y_col=[\"speed\"],\n",
    "    target_size=img_size,\n",
    "    batch_size=batch_size,\n",
    "    shuffle=False,\n",
    "    class_mode='other')\n",
    "\n",
    "#print(train_generator)\n",
    "\n",
    "validation_datagen = ImageDataGenerator(rescale = 1./255)\n",
    "\n",
    "val_generator = validation_datagen.flow_from_dataframe(\n",
    "    dataframe=x_validate,\n",
    "    directory=\"machine-learning-in-science-ii-2023/training_data/training_data\",\n",
    "    x_col=\"filename\",\n",
    "    y_col=[\"speed\"],\n",
    "    target_size=img_size,\n",
    "    shuffle=False,\n",
    "    class_mode='other')\n",
    "\n",
    "evaluate_datagen = ImageDataGenerator(rescale = 1./255)\n",
    "\n",
    "eval_generator = evaluate_datagen.flow_from_dataframe(\n",
    "    dataframe=x_evaluate,\n",
    "    directory=\"machine-learning-in-science-ii-2023/training_data/training_data\",\n",
    "    x_col=\"filename\",\n",
    "    y_col=[\"speed\"],\n",
    "    target_size=img_size,\n",
    "    shuffle=False,\n",
    "    class_mode='other')\n"
   ]
  },
  {
   "cell_type": "code",
   "execution_count": 79,
   "metadata": {
    "id": "ibuJZqAXQrWJ"
   },
   "outputs": [
    {
     "name": "stdout",
     "output_type": "stream",
     "text": [
      "WARNING:tensorflow:`input_shape` is undefined or non-square, or `rows` is not in [96, 128, 160, 192, 224]. Weights for input shape (224, 224) will be loaded as the default.\n"
     ]
    }
   ],
   "source": [
    "shape = (*img_size, 3) # inherited image size with 3 color filters\n",
    "input_shape = [240, 320, 3]\n",
    "transfer = MobileNetV2(\n",
    "    input_shape=input_shape, \n",
    "    include_top=False, \n",
    "    weights='imagenet',\n",
    "    classifier_activation=\"relu\"\n",
    ")\n",
    "\n",
    "for layer in transfer.layers[:-2]:\n",
    "    layer.trainable = False\n",
    "\n",
    "# Speed CNN base\n",
    "model = models.Sequential()\n",
    "\n",
    "model.add(transfer)\n",
    "model.build()\n",
    "        \n",
    "model.add(layers.Conv2D(128, (3, 3), strides=(2,2), activation='relu'))\n",
    "model.add(layers.BatchNormalization())\n",
    "\n",
    "# model.add(layers.Conv2D(128, (3, 3), activation='relu'))\n",
    "# model.add(layers.BatchNormalization())\n",
    "\n",
    "model.add(layers.Flatten()),\n",
    "\n",
    "# model.add(layers.Dense(128, activation='relu'))\n",
    "model.add(layers.Dense(128, activation='relu'))\n",
    "model.add(layers.BatchNormalization())\n",
    "model.add(layers.Dropout(0.2))\n",
    "\n",
    "# Output layer\n",
    "model.add(layers.Flatten())\n",
    "model.add(layers.Dense(1,  activation='sigmoid', kernel_initializer='normal'))"
   ]
  },
  {
   "cell_type": "code",
   "execution_count": null,
   "metadata": {},
   "outputs": [],
   "source": [
    "# Angle CNN base\n",
    "model_1 = models.Sequential()\n",
    "\n",
    "model_1.add(transfer)\n",
    "model_1.build()\n",
    "        \n",
    "model.add(layers.Conv2D(128, (3, 3), strides=(2,2), activation='relu'))\n",
    "model.add(layers.BatchNormalization())\n",
    "\n",
    "# model.add(layers.Conv2D(128, (3, 3), activation='relu'))\n",
    "# model.add(layers.BatchNormalization())\n",
    "\n",
    "model_1.add(layers.Flatten()),\n",
    "\n",
    "# model_1.add(layers.Dense(128, activation='relu'))\n",
    "model_1.add(layers.Dense(128, activation='relu'))\n",
    "model_1.add(layers.BatchNormalization())\n",
    "model_1.add(layers.Dropout(0.2))\n",
    "\n",
    "# Output layer\n",
    "model_1.add(layers.Flatten())\n",
    "model_1.add(layers.Dense(1,  activation='relu', kernel_initializer='normal'))"
   ]
  },
  {
   "cell_type": "code",
   "execution_count": 80,
   "metadata": {},
   "outputs": [],
   "source": [
    "model.build()\n"
   ]
  },
  {
   "cell_type": "code",
   "execution_count": 81,
   "metadata": {
    "colab": {
     "base_uri": "https://localhost:8080/"
    },
    "id": "fEzHX-7ESeCl",
    "outputId": "b1ad1ed9-87ef-4a37-b392-59e9ebb807d3",
    "scrolled": true
   },
   "outputs": [
    {
     "name": "stdout",
     "output_type": "stream",
     "text": [
      "Model: \"sequential_9\"\n",
      "_________________________________________________________________\n",
      " Layer (type)                Output Shape              Param #   \n",
      "=================================================================\n",
      " mobilenetv2_1.00_224 (Funct  (None, 8, 10, 1280)      2257984   \n",
      " ional)                                                          \n",
      "                                                                 \n",
      " flatten_18 (Flatten)        (None, 102400)            0         \n",
      "                                                                 \n",
      " dense_24 (Dense)            (None, 128)               13107328  \n",
      "                                                                 \n",
      " dense_25 (Dense)            (None, 128)               16512     \n",
      "                                                                 \n",
      " batch_normalization_7 (Batc  (None, 128)              512       \n",
      " hNormalization)                                                 \n",
      "                                                                 \n",
      " dropout_9 (Dropout)         (None, 128)               0         \n",
      "                                                                 \n",
      " flatten_19 (Flatten)        (None, 128)               0         \n",
      "                                                                 \n",
      " dense_26 (Dense)            (None, 1)                 129       \n",
      "                                                                 \n",
      "=================================================================\n",
      "Total params: 15,382,465\n",
      "Trainable params: 13,126,785\n",
      "Non-trainable params: 2,255,680\n",
      "_________________________________________________________________\n"
     ]
    }
   ],
   "source": [
    "model.summary()"
   ]
  },
  {
   "cell_type": "code",
   "execution_count": 82,
   "metadata": {
    "colab": {
     "base_uri": "https://localhost:8080/"
    },
    "id": "5loIug93TW1E",
    "outputId": "f470435d-196d-435b-cb96-39fc27d0552f",
    "scrolled": true
   },
   "outputs": [
    {
     "name": "stdout",
     "output_type": "stream",
     "text": [
      "Epoch 1/100\n",
      "556/556 [==============================] - 34s 56ms/step - loss: 0.0354 - val_loss: 0.0271\n",
      "Epoch 2/100\n",
      "556/556 [==============================] - 31s 55ms/step - loss: 0.0139 - val_loss: 0.0193\n",
      "Epoch 3/100\n",
      "556/556 [==============================] - 31s 55ms/step - loss: 0.0088 - val_loss: 0.0213\n",
      "Epoch 4/100\n",
      "556/556 [==============================] - 31s 55ms/step - loss: 0.0061 - val_loss: 0.0175\n",
      "Epoch 5/100\n",
      "556/556 [==============================] - 30s 54ms/step - loss: 0.0067 - val_loss: 0.0161\n",
      "Epoch 6/100\n",
      "556/556 [==============================] - 30s 54ms/step - loss: 0.0050 - val_loss: 0.0189\n",
      "Epoch 7/100\n",
      "556/556 [==============================] - 30s 54ms/step - loss: 0.0038 - val_loss: 0.0174\n",
      "Epoch 8/100\n",
      "556/556 [==============================] - 30s 54ms/step - loss: 0.0042 - val_loss: 0.0180\n",
      "Epoch 9/100\n",
      "556/556 [==============================] - 31s 55ms/step - loss: 0.0044 - val_loss: 0.0174\n",
      "Epoch 10/100\n",
      "556/556 [==============================] - 32s 57ms/step - loss: 0.0040 - val_loss: 0.0184\n",
      "Epoch 11/100\n",
      "556/556 [==============================] - 30s 55ms/step - loss: 0.0044 - val_loss: 0.0169\n",
      "Epoch 12/100\n",
      "556/556 [==============================] - 31s 55ms/step - loss: 0.0050 - val_loss: 0.0240\n",
      "Epoch 13/100\n",
      "556/556 [==============================] - 31s 55ms/step - loss: 0.0039 - val_loss: 0.0184\n",
      "Epoch 14/100\n",
      "556/556 [==============================] - 31s 56ms/step - loss: 0.0034 - val_loss: 0.0147\n",
      "Epoch 15/100\n",
      "556/556 [==============================] - 30s 54ms/step - loss: 0.0033 - val_loss: 0.0220\n",
      "Epoch 16/100\n",
      "556/556 [==============================] - 31s 55ms/step - loss: 0.0047 - val_loss: 0.0180\n",
      "Epoch 17/100\n",
      "556/556 [==============================] - 31s 55ms/step - loss: 0.0033 - val_loss: 0.0166\n",
      "Epoch 18/100\n",
      "556/556 [==============================] - 32s 57ms/step - loss: 0.0029 - val_loss: 0.0182\n",
      "Epoch 19/100\n",
      "556/556 [==============================] - 31s 55ms/step - loss: 0.0032 - val_loss: 0.0192\n",
      "Epoch 20/100\n",
      "556/556 [==============================] - 31s 55ms/step - loss: 0.0031 - val_loss: 0.0192\n",
      "Epoch 21/100\n",
      "556/556 [==============================] - 31s 55ms/step - loss: 0.0022 - val_loss: 0.0175\n",
      "Epoch 22/100\n",
      "520/556 [===========================>..] - ETA: 1s - loss: 0.0023"
     ]
    },
    {
     "ename": "KeyboardInterrupt",
     "evalue": "",
     "output_type": "error",
     "traceback": [
      "\u001b[0;31m---------------------------------------------------------------------------\u001b[0m",
      "\u001b[0;31mKeyboardInterrupt\u001b[0m                         Traceback (most recent call last)",
      "Cell \u001b[0;32mIn[82], line 15\u001b[0m\n\u001b[1;32m      1\u001b[0m model\u001b[39m.\u001b[39mcompile(\n\u001b[1;32m      2\u001b[0m     optimizer\u001b[39m=\u001b[39mtf\u001b[39m.\u001b[39moptimizers\u001b[39m.\u001b[39mAdam(learning_rate\u001b[39m=\u001b[39m\u001b[39m0.001\u001b[39m),\n\u001b[1;32m      3\u001b[0m     loss\u001b[39m=\u001b[39m\u001b[39m'\u001b[39m\u001b[39mmean_squared_error\u001b[39m\u001b[39m'\u001b[39m\n\u001b[1;32m      4\u001b[0m )\n\u001b[1;32m      6\u001b[0m es \u001b[39m=\u001b[39m tf\u001b[39m.\u001b[39mkeras\u001b[39m.\u001b[39mcallbacks\u001b[39m.\u001b[39mEarlyStopping(\n\u001b[1;32m      7\u001b[0m     monitor\u001b[39m=\u001b[39m\u001b[39m'\u001b[39m\u001b[39mval_loss\u001b[39m\u001b[39m'\u001b[39m,\n\u001b[1;32m      8\u001b[0m     min_delta\u001b[39m=\u001b[39m\u001b[39m0.001\u001b[39m,\n\u001b[0;32m   (...)\u001b[0m\n\u001b[1;32m     12\u001b[0m     restore_best_weights\u001b[39m=\u001b[39m\u001b[39mTrue\u001b[39;00m\n\u001b[1;32m     13\u001b[0m )\n\u001b[0;32m---> 15\u001b[0m history \u001b[39m=\u001b[39m model\u001b[39m.\u001b[39;49mfit(\n\u001b[1;32m     16\u001b[0m     train_generator,\n\u001b[1;32m     17\u001b[0m     batch_size\u001b[39m=\u001b[39;49mbatch_size,\n\u001b[1;32m     18\u001b[0m     validation_data\u001b[39m=\u001b[39;49mval_generator,\n\u001b[1;32m     19\u001b[0m     callbacks\u001b[39m=\u001b[39;49m[es],\n\u001b[1;32m     20\u001b[0m     epochs\u001b[39m=\u001b[39;49m\u001b[39m100\u001b[39;49m\n\u001b[1;32m     21\u001b[0m )\n",
      "File \u001b[0;32m~/miniconda3/envs/mlis_cw_car/lib/python3.9/site-packages/keras/utils/traceback_utils.py:65\u001b[0m, in \u001b[0;36mfilter_traceback.<locals>.error_handler\u001b[0;34m(*args, **kwargs)\u001b[0m\n\u001b[1;32m     63\u001b[0m filtered_tb \u001b[39m=\u001b[39m \u001b[39mNone\u001b[39;00m\n\u001b[1;32m     64\u001b[0m \u001b[39mtry\u001b[39;00m:\n\u001b[0;32m---> 65\u001b[0m     \u001b[39mreturn\u001b[39;00m fn(\u001b[39m*\u001b[39;49margs, \u001b[39m*\u001b[39;49m\u001b[39m*\u001b[39;49mkwargs)\n\u001b[1;32m     66\u001b[0m \u001b[39mexcept\u001b[39;00m \u001b[39mException\u001b[39;00m \u001b[39mas\u001b[39;00m e:\n\u001b[1;32m     67\u001b[0m     filtered_tb \u001b[39m=\u001b[39m _process_traceback_frames(e\u001b[39m.\u001b[39m__traceback__)\n",
      "File \u001b[0;32m~/miniconda3/envs/mlis_cw_car/lib/python3.9/site-packages/keras/engine/training.py:1650\u001b[0m, in \u001b[0;36mModel.fit\u001b[0;34m(self, x, y, batch_size, epochs, verbose, callbacks, validation_split, validation_data, shuffle, class_weight, sample_weight, initial_epoch, steps_per_epoch, validation_steps, validation_batch_size, validation_freq, max_queue_size, workers, use_multiprocessing)\u001b[0m\n\u001b[1;32m   1642\u001b[0m \u001b[39mwith\u001b[39;00m tf\u001b[39m.\u001b[39mprofiler\u001b[39m.\u001b[39mexperimental\u001b[39m.\u001b[39mTrace(\n\u001b[1;32m   1643\u001b[0m     \u001b[39m\"\u001b[39m\u001b[39mtrain\u001b[39m\u001b[39m\"\u001b[39m,\n\u001b[1;32m   1644\u001b[0m     epoch_num\u001b[39m=\u001b[39mepoch,\n\u001b[0;32m   (...)\u001b[0m\n\u001b[1;32m   1647\u001b[0m     _r\u001b[39m=\u001b[39m\u001b[39m1\u001b[39m,\n\u001b[1;32m   1648\u001b[0m ):\n\u001b[1;32m   1649\u001b[0m     callbacks\u001b[39m.\u001b[39mon_train_batch_begin(step)\n\u001b[0;32m-> 1650\u001b[0m     tmp_logs \u001b[39m=\u001b[39m \u001b[39mself\u001b[39;49m\u001b[39m.\u001b[39;49mtrain_function(iterator)\n\u001b[1;32m   1651\u001b[0m     \u001b[39mif\u001b[39;00m data_handler\u001b[39m.\u001b[39mshould_sync:\n\u001b[1;32m   1652\u001b[0m         context\u001b[39m.\u001b[39masync_wait()\n",
      "File \u001b[0;32m~/miniconda3/envs/mlis_cw_car/lib/python3.9/site-packages/tensorflow/python/util/traceback_utils.py:150\u001b[0m, in \u001b[0;36mfilter_traceback.<locals>.error_handler\u001b[0;34m(*args, **kwargs)\u001b[0m\n\u001b[1;32m    148\u001b[0m filtered_tb \u001b[39m=\u001b[39m \u001b[39mNone\u001b[39;00m\n\u001b[1;32m    149\u001b[0m \u001b[39mtry\u001b[39;00m:\n\u001b[0;32m--> 150\u001b[0m   \u001b[39mreturn\u001b[39;00m fn(\u001b[39m*\u001b[39;49margs, \u001b[39m*\u001b[39;49m\u001b[39m*\u001b[39;49mkwargs)\n\u001b[1;32m    151\u001b[0m \u001b[39mexcept\u001b[39;00m \u001b[39mException\u001b[39;00m \u001b[39mas\u001b[39;00m e:\n\u001b[1;32m    152\u001b[0m   filtered_tb \u001b[39m=\u001b[39m _process_traceback_frames(e\u001b[39m.\u001b[39m__traceback__)\n",
      "File \u001b[0;32m~/miniconda3/envs/mlis_cw_car/lib/python3.9/site-packages/tensorflow/python/eager/polymorphic_function/polymorphic_function.py:880\u001b[0m, in \u001b[0;36mFunction.__call__\u001b[0;34m(self, *args, **kwds)\u001b[0m\n\u001b[1;32m    877\u001b[0m compiler \u001b[39m=\u001b[39m \u001b[39m\"\u001b[39m\u001b[39mxla\u001b[39m\u001b[39m\"\u001b[39m \u001b[39mif\u001b[39;00m \u001b[39mself\u001b[39m\u001b[39m.\u001b[39m_jit_compile \u001b[39melse\u001b[39;00m \u001b[39m\"\u001b[39m\u001b[39mnonXla\u001b[39m\u001b[39m\"\u001b[39m\n\u001b[1;32m    879\u001b[0m \u001b[39mwith\u001b[39;00m OptionalXlaContext(\u001b[39mself\u001b[39m\u001b[39m.\u001b[39m_jit_compile):\n\u001b[0;32m--> 880\u001b[0m   result \u001b[39m=\u001b[39m \u001b[39mself\u001b[39;49m\u001b[39m.\u001b[39;49m_call(\u001b[39m*\u001b[39;49margs, \u001b[39m*\u001b[39;49m\u001b[39m*\u001b[39;49mkwds)\n\u001b[1;32m    882\u001b[0m new_tracing_count \u001b[39m=\u001b[39m \u001b[39mself\u001b[39m\u001b[39m.\u001b[39mexperimental_get_tracing_count()\n\u001b[1;32m    883\u001b[0m without_tracing \u001b[39m=\u001b[39m (tracing_count \u001b[39m==\u001b[39m new_tracing_count)\n",
      "File \u001b[0;32m~/miniconda3/envs/mlis_cw_car/lib/python3.9/site-packages/tensorflow/python/eager/polymorphic_function/polymorphic_function.py:912\u001b[0m, in \u001b[0;36mFunction._call\u001b[0;34m(self, *args, **kwds)\u001b[0m\n\u001b[1;32m    909\u001b[0m   \u001b[39mself\u001b[39m\u001b[39m.\u001b[39m_lock\u001b[39m.\u001b[39mrelease()\n\u001b[1;32m    910\u001b[0m   \u001b[39m# In this case we have created variables on the first call, so we run the\u001b[39;00m\n\u001b[1;32m    911\u001b[0m   \u001b[39m# defunned version which is guaranteed to never create variables.\u001b[39;00m\n\u001b[0;32m--> 912\u001b[0m   \u001b[39mreturn\u001b[39;00m \u001b[39mself\u001b[39;49m\u001b[39m.\u001b[39;49m_no_variable_creation_fn(\u001b[39m*\u001b[39;49margs, \u001b[39m*\u001b[39;49m\u001b[39m*\u001b[39;49mkwds)  \u001b[39m# pylint: disable=not-callable\u001b[39;00m\n\u001b[1;32m    913\u001b[0m \u001b[39melif\u001b[39;00m \u001b[39mself\u001b[39m\u001b[39m.\u001b[39m_variable_creation_fn \u001b[39mis\u001b[39;00m \u001b[39mnot\u001b[39;00m \u001b[39mNone\u001b[39;00m:\n\u001b[1;32m    914\u001b[0m   \u001b[39m# Release the lock early so that multiple threads can perform the call\u001b[39;00m\n\u001b[1;32m    915\u001b[0m   \u001b[39m# in parallel.\u001b[39;00m\n\u001b[1;32m    916\u001b[0m   \u001b[39mself\u001b[39m\u001b[39m.\u001b[39m_lock\u001b[39m.\u001b[39mrelease()\n",
      "File \u001b[0;32m~/miniconda3/envs/mlis_cw_car/lib/python3.9/site-packages/tensorflow/python/eager/polymorphic_function/tracing_compiler.py:134\u001b[0m, in \u001b[0;36mTracingCompiler.__call__\u001b[0;34m(self, *args, **kwargs)\u001b[0m\n\u001b[1;32m    131\u001b[0m \u001b[39mwith\u001b[39;00m \u001b[39mself\u001b[39m\u001b[39m.\u001b[39m_lock:\n\u001b[1;32m    132\u001b[0m   (concrete_function,\n\u001b[1;32m    133\u001b[0m    filtered_flat_args) \u001b[39m=\u001b[39m \u001b[39mself\u001b[39m\u001b[39m.\u001b[39m_maybe_define_function(args, kwargs)\n\u001b[0;32m--> 134\u001b[0m \u001b[39mreturn\u001b[39;00m concrete_function\u001b[39m.\u001b[39;49m_call_flat(\n\u001b[1;32m    135\u001b[0m     filtered_flat_args, captured_inputs\u001b[39m=\u001b[39;49mconcrete_function\u001b[39m.\u001b[39;49mcaptured_inputs)\n",
      "File \u001b[0;32m~/miniconda3/envs/mlis_cw_car/lib/python3.9/site-packages/tensorflow/python/eager/polymorphic_function/monomorphic_function.py:1745\u001b[0m, in \u001b[0;36mConcreteFunction._call_flat\u001b[0;34m(self, args, captured_inputs, cancellation_manager)\u001b[0m\n\u001b[1;32m   1741\u001b[0m possible_gradient_type \u001b[39m=\u001b[39m gradients_util\u001b[39m.\u001b[39mPossibleTapeGradientTypes(args)\n\u001b[1;32m   1742\u001b[0m \u001b[39mif\u001b[39;00m (possible_gradient_type \u001b[39m==\u001b[39m gradients_util\u001b[39m.\u001b[39mPOSSIBLE_GRADIENT_TYPES_NONE\n\u001b[1;32m   1743\u001b[0m     \u001b[39mand\u001b[39;00m executing_eagerly):\n\u001b[1;32m   1744\u001b[0m   \u001b[39m# No tape is watching; skip to running the function.\u001b[39;00m\n\u001b[0;32m-> 1745\u001b[0m   \u001b[39mreturn\u001b[39;00m \u001b[39mself\u001b[39m\u001b[39m.\u001b[39m_build_call_outputs(\u001b[39mself\u001b[39;49m\u001b[39m.\u001b[39;49m_inference_function\u001b[39m.\u001b[39;49mcall(\n\u001b[1;32m   1746\u001b[0m       ctx, args, cancellation_manager\u001b[39m=\u001b[39;49mcancellation_manager))\n\u001b[1;32m   1747\u001b[0m forward_backward \u001b[39m=\u001b[39m \u001b[39mself\u001b[39m\u001b[39m.\u001b[39m_select_forward_and_backward_functions(\n\u001b[1;32m   1748\u001b[0m     args,\n\u001b[1;32m   1749\u001b[0m     possible_gradient_type,\n\u001b[1;32m   1750\u001b[0m     executing_eagerly)\n\u001b[1;32m   1751\u001b[0m forward_function, args_with_tangents \u001b[39m=\u001b[39m forward_backward\u001b[39m.\u001b[39mforward()\n",
      "File \u001b[0;32m~/miniconda3/envs/mlis_cw_car/lib/python3.9/site-packages/tensorflow/python/eager/polymorphic_function/monomorphic_function.py:378\u001b[0m, in \u001b[0;36m_EagerDefinedFunction.call\u001b[0;34m(self, ctx, args, cancellation_manager)\u001b[0m\n\u001b[1;32m    376\u001b[0m \u001b[39mwith\u001b[39;00m _InterpolateFunctionError(\u001b[39mself\u001b[39m):\n\u001b[1;32m    377\u001b[0m   \u001b[39mif\u001b[39;00m cancellation_manager \u001b[39mis\u001b[39;00m \u001b[39mNone\u001b[39;00m:\n\u001b[0;32m--> 378\u001b[0m     outputs \u001b[39m=\u001b[39m execute\u001b[39m.\u001b[39;49mexecute(\n\u001b[1;32m    379\u001b[0m         \u001b[39mstr\u001b[39;49m(\u001b[39mself\u001b[39;49m\u001b[39m.\u001b[39;49msignature\u001b[39m.\u001b[39;49mname),\n\u001b[1;32m    380\u001b[0m         num_outputs\u001b[39m=\u001b[39;49m\u001b[39mself\u001b[39;49m\u001b[39m.\u001b[39;49m_num_outputs,\n\u001b[1;32m    381\u001b[0m         inputs\u001b[39m=\u001b[39;49margs,\n\u001b[1;32m    382\u001b[0m         attrs\u001b[39m=\u001b[39;49mattrs,\n\u001b[1;32m    383\u001b[0m         ctx\u001b[39m=\u001b[39;49mctx)\n\u001b[1;32m    384\u001b[0m   \u001b[39melse\u001b[39;00m:\n\u001b[1;32m    385\u001b[0m     outputs \u001b[39m=\u001b[39m execute\u001b[39m.\u001b[39mexecute_with_cancellation(\n\u001b[1;32m    386\u001b[0m         \u001b[39mstr\u001b[39m(\u001b[39mself\u001b[39m\u001b[39m.\u001b[39msignature\u001b[39m.\u001b[39mname),\n\u001b[1;32m    387\u001b[0m         num_outputs\u001b[39m=\u001b[39m\u001b[39mself\u001b[39m\u001b[39m.\u001b[39m_num_outputs,\n\u001b[0;32m   (...)\u001b[0m\n\u001b[1;32m    390\u001b[0m         ctx\u001b[39m=\u001b[39mctx,\n\u001b[1;32m    391\u001b[0m         cancellation_manager\u001b[39m=\u001b[39mcancellation_manager)\n",
      "File \u001b[0;32m~/miniconda3/envs/mlis_cw_car/lib/python3.9/site-packages/tensorflow/python/eager/execute.py:52\u001b[0m, in \u001b[0;36mquick_execute\u001b[0;34m(op_name, num_outputs, inputs, attrs, ctx, name)\u001b[0m\n\u001b[1;32m     50\u001b[0m \u001b[39mtry\u001b[39;00m:\n\u001b[1;32m     51\u001b[0m   ctx\u001b[39m.\u001b[39mensure_initialized()\n\u001b[0;32m---> 52\u001b[0m   tensors \u001b[39m=\u001b[39m pywrap_tfe\u001b[39m.\u001b[39;49mTFE_Py_Execute(ctx\u001b[39m.\u001b[39;49m_handle, device_name, op_name,\n\u001b[1;32m     53\u001b[0m                                       inputs, attrs, num_outputs)\n\u001b[1;32m     54\u001b[0m \u001b[39mexcept\u001b[39;00m core\u001b[39m.\u001b[39m_NotOkStatusException \u001b[39mas\u001b[39;00m e:\n\u001b[1;32m     55\u001b[0m   \u001b[39mif\u001b[39;00m name \u001b[39mis\u001b[39;00m \u001b[39mnot\u001b[39;00m \u001b[39mNone\u001b[39;00m:\n",
      "\u001b[0;31mKeyboardInterrupt\u001b[0m: "
     ]
    },
    {
     "ename": "",
     "evalue": "",
     "output_type": "error",
     "traceback": [
      "\u001b[1;31mThe Kernel crashed while executing code in the the current cell or a previous cell. Please review the code in the cell(s) to identify a possible cause of the failure. Click <a href='https://aka.ms/vscodeJupyterKernelCrash'>here</a> for more info. View Jupyter <a href='command:jupyter.viewOutput'>log</a> for further details."
     ]
    }
   ],
   "source": [
    "model.compile(\n",
    "    optimizer=tf.optimizers.Adam(learning_rate=0.001),\n",
    "    loss='mean_squared_error'\n",
    ")\n",
    "\n",
    "es = tf.keras.callbacks.EarlyStopping(\n",
    "    monitor='val_loss',\n",
    "    min_delta=0.001,\n",
    "    patience=20,\n",
    "    verbose=1,\n",
    "    mode='min',\n",
    "    restore_best_weights=True\n",
    ")\n",
    "\n",
    "history = model.fit(\n",
    "    train_generator,\n",
    "    batch_size=batch_size,\n",
    "    validation_data=val_generator,\n",
    "    callbacks=[es],\n",
    "    epochs=100\n",
    ")"
   ]
  },
  {
   "cell_type": "code",
   "execution_count": null,
   "metadata": {},
   "outputs": [],
   "source": [
    "model_1.compile(\n",
    "    optimizer=tf.optimizers.Adam(learning_rate=0.001),\n",
    "    loss='mean_squared_error'\n",
    ")\n",
    "\n",
    "history = model_1.fit(\n",
    "    train_generator,\n",
    "    batch_size=batch_size,\n",
    "    validation_data=val_generator,\n",
    "    callbacks=[es],\n",
    "    epochs=100\n",
    ")"
   ]
  },
  {
   "cell_type": "code",
   "execution_count": null,
   "metadata": {
    "colab": {
     "base_uri": "https://localhost:8080/"
    },
    "id": "6I2vJFiiTkQE",
    "outputId": "83815ac0-1917-4508-b093-bbf2ce91ea08"
   },
   "outputs": [
    {
     "name": "stdout",
     "output_type": "stream",
     "text": [
      "      filename  file type\n",
      "0        1.png     1  png\n",
      "1        2.png     2  png\n",
      "2        3.png     3  png\n",
      "3        4.png     4  png\n",
      "4        5.png     5  png\n",
      "...        ...   ...  ...\n",
      "1015  1016.png  1016  png\n",
      "1016  1017.png  1017  png\n",
      "1017  1018.png  1018  png\n",
      "1018  1019.png  1019  png\n",
      "1019  1020.png  1020  png\n",
      "\n",
      "[1020 rows x 3 columns]\n",
      "Found 1020 validated image filenames.\n",
      "<keras.preprocessing.image.DataFrameIterator object at 0x7f5debef7190>\n",
      "32/32 [==============================] - 4s 99ms/step\n",
      "(1020, 1)\n"
     ]
    },
    {
     "ename": "IndexError",
     "evalue": "index 1 is out of bounds for axis 1 with size 1",
     "output_type": "error",
     "traceback": [
      "\u001b[0;31m---------------------------------------------------------------------------\u001b[0m",
      "\u001b[0;31mIndexError\u001b[0m                                Traceback (most recent call last)",
      "Cell \u001b[0;32mIn[62], line 31\u001b[0m\n\u001b[1;32m     28\u001b[0m \u001b[39mimport\u001b[39;00m \u001b[39mmath\u001b[39;00m\n\u001b[1;32m     30\u001b[0m a\u001b[39m=\u001b[39m prediction[:,\u001b[39m0\u001b[39m]\n\u001b[0;32m---> 31\u001b[0m b\u001b[39m=\u001b[39m prediction[:,\u001b[39m1\u001b[39;49m]\n\u001b[1;32m     32\u001b[0m b\u001b[39m+\u001b[39m\u001b[39m=\u001b[39m\u001b[39m0.5\u001b[39m\n\u001b[1;32m     33\u001b[0m b\u001b[39m=\u001b[39m np\u001b[39m.\u001b[39mfloor(b)\n",
      "\u001b[0;31mIndexError\u001b[0m: index 1 is out of bounds for axis 1 with size 1"
     ]
    }
   ],
   "source": [
    "filename = os.listdir(\"machine-learning-in-science-ii-2023/test_data/test_data\") \n",
    "\n",
    "df = pd.DataFrame(filename)\n",
    "df.columns = [\"filename\"]\n",
    "\n",
    "df[['file', 'type']] = df.filename.str.split(\".\", expand = True)\n",
    "df[\"file\"] = df[\"file\"].astype(str).astype(int)\n",
    "\n",
    "df.sort_values(by=['file'], inplace=True)\n",
    "df.reset_index(drop=True, inplace=True)\n",
    "print(df)\n",
    "\n",
    "\n",
    "test_datagen = ImageDataGenerator(rescale = 1./255)\n",
    "\n",
    "test_images = test_datagen.flow_from_dataframe(\n",
    "    dataframe=df,\n",
    "    directory=\"machine-learning-in-science-ii-2023/test_data/test_data\",\n",
    "    x_col=\"filename\",\n",
    "    target_size=img_size,\n",
    "    shuffle=False,\n",
    "    class_mode=None)\n",
    "\n",
    "print(test_images)\n",
    "\n",
    "prediction = model.predict(test_images)\n",
    "print(prediction.shape)\n",
    "import math\n",
    "\n",
    "a= prediction[:,0]\n",
    "b= prediction[:,1]\n",
    "b+=0.5\n",
    "b= np.floor(b)\n",
    "\n",
    "submissiondata={\"angle\":a , \"speed\":b} \n",
    "df = pd.DataFrame(submissiondata)\n",
    "df.index += 1 \n",
    "df.to_csv('Submission.csv')\n"
   ]
  },
  {
   "cell_type": "code",
   "execution_count": null,
   "metadata": {
    "scrolled": false
   },
   "outputs": [
    {
     "name": "stdout",
     "output_type": "stream",
     "text": [
      "93/93 [==============================] - 8s 86ms/step - loss: 0.0064\n",
      "Found 2966 validated image filenames.\n",
      "93/93 [==============================] - 6s 68ms/step\n"
     ]
    },
    {
     "ename": "IndexError",
     "evalue": "index 1 is out of bounds for axis 1 with size 1",
     "output_type": "error",
     "traceback": [
      "\u001b[0;31m---------------------------------------------------------------------------\u001b[0m",
      "\u001b[0;31mIndexError\u001b[0m                                Traceback (most recent call last)",
      "Cell \u001b[0;32mIn[63], line 22\u001b[0m\n\u001b[1;32m     19\u001b[0m prediction \u001b[39m=\u001b[39m model\u001b[39m.\u001b[39mpredict(test_generator, verbose \u001b[39m=\u001b[39m\u001b[39m1\u001b[39m)\n\u001b[1;32m     21\u001b[0m a\u001b[39m=\u001b[39m prediction[:,\u001b[39m0\u001b[39m]\n\u001b[0;32m---> 22\u001b[0m b\u001b[39m=\u001b[39m prediction[:,\u001b[39m1\u001b[39;49m]\n\u001b[1;32m     23\u001b[0m b\u001b[39m+\u001b[39m\u001b[39m=\u001b[39m\u001b[39m0.5\u001b[39m\n\u001b[1;32m     24\u001b[0m b\u001b[39m=\u001b[39m np\u001b[39m.\u001b[39mfloor(b)\n",
      "\u001b[0;31mIndexError\u001b[0m: index 1 is out of bounds for axis 1 with size 1"
     ]
    }
   ],
   "source": [
    "from sklearn.metrics import classification_report\n",
    "\n",
    "test_loss = model.evaluate(\n",
    "    eval_generator,\n",
    "    verbose=1\n",
    ")\n",
    "\n",
    "test_datagen = ImageDataGenerator(rescale = 1./255)\n",
    "\n",
    "test_generator = test_datagen.flow_from_dataframe(\n",
    "    dataframe=x_evaluate,\n",
    "    directory=\"machine-learning-in-science-ii-2023/training_data/training_data\",\n",
    "    x_col=\"filename\",\n",
    "    target_size=img_size,\n",
    "    shuffle=False,\n",
    "    class_mode=None)\n",
    "\n",
    "\n",
    "prediction = model.predict(test_generator, verbose =1)\n",
    "\n",
    "a= prediction[:,0]\n",
    "b= prediction[:,1]\n",
    "b+=0.5\n",
    "b= np.floor(b)\n",
    "\n",
    "submissiondata={\"angle\":a , \"speed\":b} \n",
    "df = pd.DataFrame(submissiondata)\n",
    "df.index += 1 \n",
    "df.to_csv('evaluate.csv')\n",
    "\n"
   ]
  },
  {
   "cell_type": "code",
   "execution_count": null,
   "metadata": {},
   "outputs": [],
   "source": [
    "diff = abs(x_evaluate[\"angle\"] - a)\n",
    "\n",
    "results = pd.DataFrame({\"Train\":x_evaluate[\"angle\"], \"Predicted\":a, \"Difference\":diff})\n",
    "#results\n",
    "\n",
    "#results.to_csv('evaluate.csv')"
   ]
  },
  {
   "cell_type": "code",
   "execution_count": null,
   "metadata": {},
   "outputs": [],
   "source": [
    "results = pd.DataFrame({\"Train\":x_evaluate[\"speed\"],\"Predicted\":b})\n",
    "#results\n",
    "\n",
    "#results.to_csv('evaluate.csv')"
   ]
  },
  {
   "cell_type": "code",
   "execution_count": null,
   "metadata": {},
   "outputs": [],
   "source": [
    "model.save(\"speed-model.h5\")\n",
    "model_1.save(\"angle-model.h5\")\n"
   ]
  },
  {
   "cell_type": "code",
   "execution_count": null,
   "metadata": {},
   "outputs": [],
   "source": [
    "model_architecture = model.to_json()\n",
    "model.save_weights(\"model_weights.h5\")"
   ]
  },
  {
   "cell_type": "code",
   "execution_count": null,
   "metadata": {},
   "outputs": [
    {
     "name": "stdout",
     "output_type": "stream",
     "text": [
      "Model: \"sequential_4\"\n",
      "_________________________________________________________________\n",
      " Layer (type)                Output Shape              Param #   \n",
      "=================================================================\n",
      " mobilenetv2_1.00_224 (Funct  (None, 8, 10, 1280)      2257984   \n",
      " ional)                                                          \n",
      "                                                                 \n",
      " conv2d_6 (Conv2D)           (None, 6, 8, 128)         1474688   \n",
      "                                                                 \n",
      " batch_normalization_10 (Bat  (None, 6, 8, 128)        512       \n",
      " chNormalization)                                                \n",
      "                                                                 \n",
      " conv2d_7 (Conv2D)           (None, 4, 6, 128)         147584    \n",
      "                                                                 \n",
      " batch_normalization_11 (Bat  (None, 4, 6, 128)        512       \n",
      " chNormalization)                                                \n",
      "                                                                 \n",
      " flatten_8 (Flatten)         (None, 3072)              0         \n",
      "                                                                 \n",
      " dense_8 (Dense)             (None, 128)               393344    \n",
      "                                                                 \n",
      " batch_normalization_12 (Bat  (None, 128)              512       \n",
      " chNormalization)                                                \n",
      "                                                                 \n",
      " dropout_4 (Dropout)         (None, 128)               0         \n",
      "                                                                 \n",
      " flatten_9 (Flatten)         (None, 128)               0         \n",
      "                                                                 \n",
      " dense_9 (Dense)             (None, 2)                 258       \n",
      "                                                                 \n",
      "=================================================================\n",
      "Total params: 4,275,394\n",
      "Trainable params: 3,378,562\n",
      "Non-trainable params: 896,832\n",
      "_________________________________________________________________\n"
     ]
    }
   ],
   "source": [
    "from tensorflow.keras.models import model_from_json\n",
    "# model2 = model_from_json(model_architecture)\n",
    "# model2.load_weights(\"model_weights.h5\")\n",
    "\n",
    "\n",
    "model2 = load_model('model.hdf5')\n",
    "\n",
    "transfer = model2.layers[0]\n",
    "transfer.trainable = True\n",
    "\n",
    "\n",
    "for layer in transfer.layers[:-25]:\n",
    "    layer.trainable = False\n",
    "\n",
    "#model2.trainable = True\n",
    "\n",
    "# for layer in model2.layers[:2]:\n",
    "#     layer.trainable = False\n",
    "    \n",
    "model2.summary()\n"
   ]
  },
  {
   "cell_type": "code",
   "execution_count": null,
   "metadata": {},
   "outputs": [
    {
     "name": "stdout",
     "output_type": "stream",
     "text": [
      "Epoch 1/300\n",
      "556/556 [==============================] - 34s 50ms/step - loss: 0.0113 - val_loss: 0.0103\n",
      "Epoch 2/300\n",
      "556/556 [==============================] - 26s 47ms/step - loss: 0.0077 - val_loss: 0.0099\n",
      "Epoch 3/300\n",
      "556/556 [==============================] - 27s 49ms/step - loss: 0.0066 - val_loss: 0.0102\n",
      "Epoch 4/300\n",
      "556/556 [==============================] - 27s 49ms/step - loss: 0.0060 - val_loss: 0.0105\n",
      "Epoch 5/300\n",
      "556/556 [==============================] - 26s 47ms/step - loss: 0.0057 - val_loss: 0.0105\n",
      "Epoch 6/300\n",
      "556/556 [==============================] - 26s 47ms/step - loss: 0.0053 - val_loss: 0.0104\n",
      "Epoch 7/300\n",
      "556/556 [==============================] - 26s 47ms/step - loss: 0.0050 - val_loss: 0.0105\n",
      "Epoch 8/300\n",
      "556/556 [==============================] - 27s 49ms/step - loss: 0.0049 - val_loss: 0.0105\n",
      "Epoch 9/300\n",
      "556/556 [==============================] - 26s 46ms/step - loss: 0.0046 - val_loss: 0.0101\n",
      "Epoch 10/300\n",
      "556/556 [==============================] - 27s 48ms/step - loss: 0.0042 - val_loss: 0.0101\n",
      "Epoch 11/300\n",
      "556/556 [==============================] - 27s 49ms/step - loss: 0.0040 - val_loss: 0.0105\n",
      "Epoch 12/300\n",
      "556/556 [==============================] - 29s 53ms/step - loss: 0.0037 - val_loss: 0.0102\n",
      "Epoch 13/300\n",
      "556/556 [==============================] - 30s 54ms/step - loss: 0.0034 - val_loss: 0.0106\n",
      "Epoch 14/300\n",
      "556/556 [==============================] - 29s 52ms/step - loss: 0.0032 - val_loss: 0.0107\n",
      "Epoch 15/300\n",
      "556/556 [==============================] - 30s 54ms/step - loss: 0.0030 - val_loss: 0.0104\n",
      "Epoch 16/300\n",
      "556/556 [==============================] - 30s 53ms/step - loss: 0.0028 - val_loss: 0.0106\n",
      "Epoch 17/300\n",
      "556/556 [==============================] - 31s 55ms/step - loss: 0.0027 - val_loss: 0.0102\n",
      "Epoch 18/300\n",
      "556/556 [==============================] - 30s 54ms/step - loss: 0.0026 - val_loss: 0.0105\n",
      "Epoch 19/300\n",
      "556/556 [==============================] - 30s 54ms/step - loss: 0.0024 - val_loss: 0.0104\n",
      "Epoch 20/300\n",
      "556/556 [==============================] - 34s 61ms/step - loss: 0.0023 - val_loss: 0.0103\n",
      "Epoch 21/300\n",
      "556/556 [==============================] - 30s 54ms/step - loss: 0.0022 - val_loss: 0.0105\n",
      "Epoch 22/300\n",
      "556/556 [==============================] - 31s 55ms/step - loss: 0.0022 - val_loss: 0.0098\n",
      "Epoch 23/300\n",
      "556/556 [==============================] - 31s 55ms/step - loss: 0.0021 - val_loss: 0.0101\n",
      "Epoch 24/300\n",
      "556/556 [==============================] - 30s 53ms/step - loss: 0.0021 - val_loss: 0.0100\n",
      "Epoch 25/300\n",
      "556/556 [==============================] - 31s 55ms/step - loss: 0.0020 - val_loss: 0.0098\n",
      "Epoch 26/300\n",
      "556/556 [==============================] - 30s 54ms/step - loss: 0.0019 - val_loss: 0.0099\n",
      "Epoch 27/300\n",
      "556/556 [==============================] - 30s 54ms/step - loss: 0.0021 - val_loss: 0.0098\n",
      "Epoch 28/300\n",
      "556/556 [==============================] - 30s 55ms/step - loss: 0.0019 - val_loss: 0.0098\n",
      "Epoch 29/300\n",
      "556/556 [==============================] - 30s 53ms/step - loss: 0.0018 - val_loss: 0.0097\n",
      "Epoch 30/300\n",
      "556/556 [==============================] - 30s 54ms/step - loss: 0.0018 - val_loss: 0.0097\n",
      "Epoch 31/300\n",
      "556/556 [==============================] - 31s 55ms/step - loss: 0.0018 - val_loss: 0.0097\n",
      "Epoch 32/300\n",
      "556/556 [==============================] - 30s 54ms/step - loss: 0.0018 - val_loss: 0.0094\n",
      "Epoch 33/300\n",
      "556/556 [==============================] - 30s 53ms/step - loss: 0.0016 - val_loss: 0.0096\n",
      "Epoch 34/300\n",
      "556/556 [==============================] - 31s 55ms/step - loss: 0.0016 - val_loss: 0.0096\n",
      "Epoch 35/300\n",
      "556/556 [==============================] - 30s 54ms/step - loss: 0.0016 - val_loss: 0.0093\n",
      "Epoch 36/300\n",
      "556/556 [==============================] - 31s 56ms/step - loss: 0.0017 - val_loss: 0.0097\n",
      "Epoch 37/300\n",
      "556/556 [==============================] - 30s 54ms/step - loss: 0.0018 - val_loss: 0.0095\n",
      "Epoch 38/300\n",
      "556/556 [==============================] - 31s 55ms/step - loss: 0.0018 - val_loss: 0.0096\n",
      "Epoch 39/300\n",
      "556/556 [==============================] - 30s 54ms/step - loss: 0.0017 - val_loss: 0.0095\n",
      "Epoch 40/300\n",
      "556/556 [==============================] - 30s 54ms/step - loss: 0.0016 - val_loss: 0.0095\n",
      "Epoch 41/300\n",
      "556/556 [==============================] - 30s 54ms/step - loss: 0.0016 - val_loss: 0.0095\n",
      "Epoch 42/300\n",
      "556/556 [==============================] - 29s 53ms/step - loss: 0.0015 - val_loss: 0.0094\n",
      "Epoch 43/300\n",
      "556/556 [==============================] - 29s 52ms/step - loss: 0.0015 - val_loss: 0.0095\n",
      "Epoch 44/300\n",
      "556/556 [==============================] - 30s 53ms/step - loss: 0.0016 - val_loss: 0.0095\n",
      "Epoch 45/300\n",
      "556/556 [==============================] - 31s 55ms/step - loss: 0.0016 - val_loss: 0.0093\n",
      "Epoch 46/300\n",
      "556/556 [==============================] - 30s 54ms/step - loss: 0.0016 - val_loss: 0.0094\n",
      "Epoch 47/300\n",
      "556/556 [==============================] - 30s 53ms/step - loss: 0.0016 - val_loss: 0.0094\n",
      "Epoch 48/300\n",
      "556/556 [==============================] - 30s 54ms/step - loss: 0.0016 - val_loss: 0.0094\n",
      "Epoch 49/300\n",
      "556/556 [==============================] - 30s 54ms/step - loss: 0.0016 - val_loss: 0.0092\n",
      "Epoch 50/300\n",
      "556/556 [==============================] - 30s 54ms/step - loss: 0.0016 - val_loss: 0.0092\n",
      "Epoch 51/300\n",
      "556/556 [==============================] - 31s 55ms/step - loss: 0.0015 - val_loss: 0.0094\n",
      "Epoch 52/300\n",
      "556/556 [==============================] - 30s 54ms/step - loss: 0.0016 - val_loss: 0.0093\n",
      "Epoch 53/300\n",
      "556/556 [==============================] - 30s 54ms/step - loss: 0.0015 - val_loss: 0.0092\n",
      "Epoch 54/300\n",
      "556/556 [==============================] - 31s 56ms/step - loss: 0.0015 - val_loss: 0.0092\n",
      "Epoch 55/300\n",
      "556/556 [==============================] - 31s 56ms/step - loss: 0.0015 - val_loss: 0.0092\n",
      "Epoch 56/300\n",
      "556/556 [==============================] - 30s 54ms/step - loss: 0.0015 - val_loss: 0.0090\n",
      "Epoch 57/300\n",
      "556/556 [==============================] - 31s 56ms/step - loss: 0.0015 - val_loss: 0.0090\n",
      "Epoch 58/300\n",
      "556/556 [==============================] - 32s 57ms/step - loss: 0.0015 - val_loss: 0.0091\n",
      "Epoch 59/300\n",
      "556/556 [==============================] - 31s 55ms/step - loss: 0.0015 - val_loss: 0.0091\n",
      "Epoch 60/300\n",
      "556/556 [==============================] - 31s 55ms/step - loss: 0.0015 - val_loss: 0.0092\n",
      "Epoch 61/300\n",
      "556/556 [==============================] - 31s 56ms/step - loss: 0.0015 - val_loss: 0.0090\n",
      "Epoch 62/300\n",
      "556/556 [==============================] - 32s 57ms/step - loss: 0.0015 - val_loss: 0.0092\n",
      "Epoch 63/300\n",
      "556/556 [==============================] - 30s 55ms/step - loss: 0.0015 - val_loss: 0.0092\n",
      "Epoch 64/300\n",
      "556/556 [==============================] - 31s 55ms/step - loss: 0.0015 - val_loss: 0.0092\n",
      "Epoch 65/300\n",
      "556/556 [==============================] - 30s 55ms/step - loss: 0.0015 - val_loss: 0.0090\n",
      "Epoch 66/300\n",
      "556/556 [==============================] - 30s 54ms/step - loss: 0.0015 - val_loss: 0.0091\n",
      "Epoch 67/300\n",
      "556/556 [==============================] - 30s 54ms/step - loss: 0.0015 - val_loss: 0.0092\n",
      "Epoch 68/300\n",
      "556/556 [==============================] - 30s 55ms/step - loss: 0.0015 - val_loss: 0.0090\n",
      "Epoch 69/300\n",
      "556/556 [==============================] - 30s 55ms/step - loss: 0.0015 - val_loss: 0.0092\n",
      "Epoch 70/300\n",
      "556/556 [==============================] - 31s 57ms/step - loss: 0.0015 - val_loss: 0.0091\n",
      "Epoch 71/300\n",
      "556/556 [==============================] - 30s 54ms/step - loss: 0.0015 - val_loss: 0.0091\n",
      "Epoch 72/300\n",
      "556/556 [==============================] - 34s 61ms/step - loss: 0.0015 - val_loss: 0.0092\n",
      "Epoch 73/300\n",
      "556/556 [==============================] - 35s 62ms/step - loss: 0.0015 - val_loss: 0.0094\n",
      "Epoch 74/300\n",
      "556/556 [==============================] - 30s 53ms/step - loss: 0.0016 - val_loss: 0.0097\n",
      "Epoch 75/300\n",
      "556/556 [==============================] - 28s 50ms/step - loss: 0.0015 - val_loss: 0.0095\n",
      "Epoch 76/300\n",
      "556/556 [==============================] - 33s 59ms/step - loss: 0.0015 - val_loss: 0.0095\n",
      "Epoch 77/300\n",
      "556/556 [==============================] - 30s 54ms/step - loss: 0.0015 - val_loss: 0.0095\n",
      "Epoch 78/300\n",
      "556/556 [==============================] - 31s 55ms/step - loss: 0.0015 - val_loss: 0.0093\n",
      "Epoch 79/300\n",
      "556/556 [==============================] - ETA: 0s - loss: 0.0015Restoring model weights from the end of the best epoch: 49.\n",
      "556/556 [==============================] - 31s 56ms/step - loss: 0.0015 - val_loss: 0.0094\n",
      "Epoch 79: early stopping\n"
     ]
    }
   ],
   "source": [
    "\n",
    "model2.compile(\n",
    "    optimizer=tf.optimizers.Adam(learning_rate=0.00001), # 1e-5 \n",
    "    loss='mean_squared_error'\n",
    ")\n",
    "\n",
    "es = tf.keras.callbacks.EarlyStopping(\n",
    "    monitor='val_loss',\n",
    "    min_delta=0.0005,\n",
    "    patience=30,\n",
    "    verbose=1,\n",
    "    mode='min',\n",
    "    restore_best_weights=True\n",
    ")\n",
    "\n",
    "history = model2.fit(\n",
    "    train_generator,\n",
    "    batch_size=batch_size,\n",
    "    validation_data=val_generator,\n",
    "    callbacks=[es],\n",
    "    epochs=300\n",
    ")\n"
   ]
  },
  {
   "cell_type": "code",
   "execution_count": null,
   "metadata": {},
   "outputs": [],
   "source": []
  },
  {
   "cell_type": "code",
   "execution_count": null,
   "metadata": {},
   "outputs": [
    {
     "name": "stdout",
     "output_type": "stream",
     "text": [
      "93/93 [==============================] - 8s 86ms/step - loss: 0.0110\n"
     ]
    }
   ],
   "source": [
    "from sklearn.metrics import classification_report\n",
    "\n",
    "test_loss = model2.evaluate(\n",
    "    eval_generator,\n",
    "    verbose=1\n",
    ")\n"
   ]
  },
  {
   "cell_type": "code",
   "execution_count": null,
   "metadata": {},
   "outputs": [],
   "source": [
    "model2.save(\"model-fine-tuning.hdf5\")"
   ]
  },
  {
   "cell_type": "code",
   "execution_count": null,
   "metadata": {},
   "outputs": [
    {
     "name": "stdout",
     "output_type": "stream",
     "text": [
      "32/32 [==============================] - 4s 91ms/step\n",
      "(1020, 2)\n"
     ]
    }
   ],
   "source": [
    "\n",
    "prediction = model2.predict(test_images)\n",
    "print(prediction.shape)\n",
    "import math\n",
    "\n",
    "a= prediction[:,0]\n",
    "b= prediction[:,1]\n",
    "b+=0.5\n",
    "b= np.floor(b)\n",
    "\n",
    "submissiondata={\"angle\":a , \"speed\":b} \n",
    "df = pd.DataFrame(submissiondata)\n",
    "df.index += 1 \n",
    "df.to_csv('Submission-fine-tuning.csv')\n"
   ]
  },
  {
   "cell_type": "code",
   "execution_count": null,
   "metadata": {},
   "outputs": [],
   "source": [
    "from keras.utils.vis_utils import plot_model\n",
    "\n",
    "model = load_model(\"model-fine-tuning.hdf5\")"
   ]
  },
  {
   "cell_type": "code",
   "execution_count": null,
   "metadata": {},
   "outputs": [
    {
     "data": {
      "image/png": "[encoded data removed]",
      "text/plain": [
       "<IPython.core.display.Image object>"
      ]
     },
     "execution_count": 12,
     "metadata": {},
     "output_type": "execute_result"
    }
   ],
   "source": [
    "plot_model(model, show_layer_names=True, show_shapes=True,show_layer_activations=True)"
   ]
  },
  {
   "cell_type": "code",
   "execution_count": null,
   "metadata": {},
   "outputs": [
    {
     "name": "stdout",
     "output_type": "stream",
     "text": [
      "/bin/bash: /home/jarrad_foley135/miniconda3/envs/mlis_cw_car/lib/libtinfo.so.6: no version information available (required by /bin/bash)\n",
      "Requirement already satisfied: pydot in /home/jarrad_foley135/miniconda3/envs/mlis_cw_car/lib/python3.9/site-packages (1.4.2)\n",
      "Requirement already satisfied: pyparsing>=2.1.4 in /home/jarrad_foley135/miniconda3/envs/mlis_cw_car/lib/python3.9/site-packages (from pydot) (3.0.9)\n",
      "Note: you may need to restart the kernel to use updated packages.\n"
     ]
    }
   ],
   "source": [
    "pip install pydot"
   ]
  },
  {
   "cell_type": "code",
   "execution_count": null,
   "metadata": {},
   "outputs": [
    {
     "name": "stdout",
     "output_type": "stream",
     "text": [
      "You must install pydot (`pip install pydot`) and install graphviz (see instructions at https://graphviz.gitlab.io/download/) for plot_model to work.\n"
     ]
    }
   ],
   "source": [
    "plot_model(model, show_layer_names=True, show_shapes=True,show_layer_activations=True)"
   ]
  }
 ],
 "metadata": {
  "colab": {
   "collapsed_sections": [],
   "name": "project.ipynb",
   "provenance": []
  },
  "kernelspec": {
   "display_name": "mlis2_car",
   "language": "python",
   "name": "python3"
  },
  "language_info": {
   "codemirror_mode": {
    "name": "ipython",
    "version": 3
   },
   "file_extension": ".py",
   "mimetype": "text/x-python",
   "name": "python",
   "nbconvert_exporter": "python",
   "pygments_lexer": "ipython3",
   "version": "3.9.16"
  },
  "vscode": {
   "interpreter": {
    "hash": "83badb9abfa833c8f944a253dee1819f5989bd8424f7fb8e0e95b6cecc08b674"
   }
  }
 },
 "nbformat": 4,
 "nbformat_minor": 1
}
